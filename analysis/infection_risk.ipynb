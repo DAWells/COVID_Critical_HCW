{
 "cells": [
  {
   "cell_type": "markdown",
   "metadata": {},
   "source": [
    "# Risk of infection amongst royal papworth hospital staff\n",
    "Steensels et al. found no influence of age or sex on presence of antibodies in staff. I suspect that the most likely important variables are work location and classification.\n",
    "\n",
    "Sero positives and negatives are based on the linear SVM trained on known positive and negative cases."
   ]
  },
  {
   "cell_type": "code",
   "execution_count": 1,
   "metadata": {},
   "outputs": [],
   "source": [
    "import os\n",
    "import datetime\n",
    "\n",
    "import numpy as np\n",
    "import pandas as pd\n",
    "import matplotlib.pyplot as plt\n",
    "import seaborn\n",
    "\n",
    "%load_ext rpy2.ipython\n",
    "from rpy2.robjects import r"
   ]
  },
  {
   "cell_type": "code",
   "execution_count": 2,
   "metadata": {},
   "outputs": [
    {
     "name": "stderr",
     "output_type": "stream",
     "text": [
      "/home/david/miniconda3/envs/HICC_datapipe/lib/python3.7/site-packages/rpy2/rinterface/__init__.py:146: RRuntimeWarning: Loading required package: ggplot2\n",
      "\n",
      "  warnings.warn(x, RRuntimeWarning)\n",
      "/home/david/miniconda3/envs/HICC_datapipe/lib/python3.7/site-packages/rpy2/rinterface/__init__.py:146: RRuntimeWarning: Loading required package: dplyr\n",
      "\n",
      "  warnings.warn(x, RRuntimeWarning)\n",
      "/home/david/miniconda3/envs/HICC_datapipe/lib/python3.7/site-packages/rpy2/rinterface/__init__.py:146: RRuntimeWarning: \n",
      "Attaching package: ‘dplyr’\n",
      "\n",
      "\n",
      "  warnings.warn(x, RRuntimeWarning)\n",
      "/home/david/miniconda3/envs/HICC_datapipe/lib/python3.7/site-packages/rpy2/rinterface/__init__.py:146: RRuntimeWarning: The following objects are masked from ‘package:stats’:\n",
      "\n",
      "    filter, lag\n",
      "\n",
      "\n",
      "  warnings.warn(x, RRuntimeWarning)\n",
      "/home/david/miniconda3/envs/HICC_datapipe/lib/python3.7/site-packages/rpy2/rinterface/__init__.py:146: RRuntimeWarning: The following objects are masked from ‘package:base’:\n",
      "\n",
      "    intersect, setdiff, setequal, union\n",
      "\n",
      "\n",
      "  warnings.warn(x, RRuntimeWarning)\n",
      "/home/david/miniconda3/envs/HICC_datapipe/lib/python3.7/site-packages/rpy2/rinterface/__init__.py:146: RRuntimeWarning: Loading required package: diosR\n",
      "\n",
      "  warnings.warn(x, RRuntimeWarning)\n",
      "/home/david/miniconda3/envs/HICC_datapipe/lib/python3.7/site-packages/rpy2/rinterface/__init__.py:146: RRuntimeWarning: Loading required package: plot.matrix\n",
      "\n",
      "  warnings.warn(x, RRuntimeWarning)\n",
      "/home/david/miniconda3/envs/HICC_datapipe/lib/python3.7/site-packages/rpy2/rinterface/__init__.py:146: RRuntimeWarning: Loading required package: broom\n",
      "\n",
      "  warnings.warn(x, RRuntimeWarning)\n",
      "/home/david/miniconda3/envs/HICC_datapipe/lib/python3.7/site-packages/rpy2/rinterface/__init__.py:146: RRuntimeWarning: Loading required package: dotwhisker\n",
      "\n",
      "  warnings.warn(x, RRuntimeWarning)\n",
      "/home/david/miniconda3/envs/HICC_datapipe/lib/python3.7/site-packages/rpy2/rinterface/__init__.py:146: RRuntimeWarning: Loading required package: MuMIn\n",
      "\n",
      "  warnings.warn(x, RRuntimeWarning)\n"
     ]
    },
    {
     "data": {
      "text/plain": [
       "[[1]]\n",
       "[1] TRUE\n",
       "\n",
       "[[2]]\n",
       "[1] TRUE\n",
       "\n",
       "[[3]]\n",
       "[1] FALSE\n",
       "\n",
       "[[4]]\n",
       "[1] TRUE\n",
       "\n",
       "[[5]]\n",
       "[1] TRUE\n",
       "\n",
       "[[6]]\n",
       "[1] FALSE\n",
       "\n",
       "[[7]]\n",
       "[1] TRUE\n",
       "\n"
      ]
     },
     "metadata": {},
     "output_type": "display_data"
    }
   ],
   "source": [
    "%%R\n",
    "packages <- c(\"ggplot2\", \"dplyr\", \"diosR\", \"plot.matrix\", \"broom\", \"dotwhisker\", \"MuMIn\")\n",
    "lapply(packages, require, character.only=T)"
   ]
  },
  {
   "cell_type": "code",
   "execution_count": 3,
   "metadata": {},
   "outputs": [],
   "source": [
    "os.chdir(\"/home/david/linux_work/coronavirus_2020/papworth/staff_analysis/data\")"
   ]
  },
  {
   "cell_type": "code",
   "execution_count": 4,
   "metadata": {},
   "outputs": [
    {
     "data": {
      "text/plain": [
       "R version 3.6.1 (2019-07-05)\n",
       "Platform: x86_64-conda_cos6-linux-gnu (64-bit)\n",
       "Running under: Ubuntu 18.04.5 LTS\n",
       "\n",
       "Matrix products: default\n",
       "BLAS/LAPACK: /home/david/miniconda3/envs/HICC_datapipe/lib/libmkl_rt.so\n",
       "\n",
       "locale:\n",
       " [1] LC_CTYPE=C.UTF-8       LC_NUMERIC=C           LC_TIME=C.UTF-8       \n",
       " [4] LC_COLLATE=C.UTF-8     LC_MONETARY=C.UTF-8    LC_MESSAGES=C.UTF-8   \n",
       " [7] LC_PAPER=C.UTF-8       LC_NAME=C              LC_ADDRESS=C          \n",
       "[10] LC_TELEPHONE=C         LC_MEASUREMENT=C.UTF-8 LC_IDENTIFICATION=C   \n",
       "\n",
       "attached base packages:\n",
       "[1] tools     stats     graphics  grDevices utils     datasets  methods  \n",
       "[8] base     \n",
       "\n",
       "other attached packages:\n",
       "[1] MuMIn_1.43.17     broom_0.5.2       plot.matrix_1.5.2 dplyr_1.0.2      \n",
       "[5] ggplot2_3.3.3    \n",
       "\n",
       "loaded via a namespace (and not attached):\n",
       " [1] Rcpp_1.0.5       magrittr_1.5     tidyselect_1.1.0 munsell_0.5.0   \n",
       " [5] colorspace_1.4-1 lattice_0.20-38  R6_2.4.0         rlang_0.4.10    \n",
       " [9] grid_3.6.1       gtable_0.3.0     nlme_3.1-139     withr_2.4.1     \n",
       "[13] ellipsis_0.3.1   tibble_3.0.4     lifecycle_0.2.0  crayon_1.3.4    \n",
       "[17] Matrix_1.2-17    purrr_0.3.4      tidyr_1.1.2      vctrs_0.3.6     \n",
       "[21] glue_1.4.2       compiler_3.6.1   pillar_1.4.7     backports_1.1.4 \n",
       "[25] generics_0.0.2   scales_1.0.0     stats4_3.6.1     pkgconfig_2.0.2 \n"
      ]
     },
     "metadata": {},
     "output_type": "display_data"
    }
   ],
   "source": [
    "%%R\n",
    "sessionInfo()"
   ]
  },
  {
   "cell_type": "markdown",
   "metadata": {},
   "source": [
    "# Preprocessing"
   ]
  },
  {
   "cell_type": "code",
   "execution_count": 5,
   "metadata": {},
   "outputs": [],
   "source": [
    "%%R\n",
    "staf <- read.csv('staff_svm_demographic_antibodies.csv')"
   ]
  },
  {
   "cell_type": "code",
   "execution_count": 6,
   "metadata": {},
   "outputs": [],
   "source": [
    "%%R\n",
    "#Set missing sex data to NA\n",
    "levels(staf$sex)[which(levels(staf$sex)==\"\")] <- NA\n",
    "levels(staf$nep)[which(levels(staf$nep)==\"\")] <- NA"
   ]
  },
  {
   "cell_type": "code",
   "execution_count": 7,
   "metadata": {},
   "outputs": [],
   "source": [
    "%%R\n",
    "#Set severity, ethnicity, jobtype, and location to factors\n",
    "staf$severity <- as.factor(staf$severity)\n",
    "staf$ethnicity <- as.factor(staf$ethnicity)\n",
    "staf$jobtype <- as.factor(staf$jobtype)\n",
    "staf$location <- as.factor(staf$location)\n",
    "staf$location <- relevel(staf$location, ref=\"3\")"
   ]
  },
  {
   "cell_type": "code",
   "execution_count": 8,
   "metadata": {},
   "outputs": [
    {
     "data": {
      "text/plain": [
       "'data.frame':\t500 obs. of  23 variables:\n",
       " $ id              : Factor w/ 500 levels \"staff1\",\"staff10\",..: 1 112 223 334 445 457 479 468 490 2 ...\n",
       " $ laminar         : num  NA NA NA 2 NA NA NA NA NA NA ...\n",
       " $ age             : num  NA 42 NA 39 53 42 40 55 31 51 ...\n",
       " $ sex             : Factor w/ 2 levels \"f\",\"m\": 2 1 1 1 2 1 1 2 2 2 ...\n",
       " $ severity        : Factor w/ 4 levels \"1\",\"2\",\"3\",\"4\": 2 2 1 3 2 1 3 2 NA 1 ...\n",
       " $ ethnicity       : Factor w/ 5 levels \"1\",\"2\",\"3\",\"4\",..: 3 1 1 1 1 1 3 1 1 1 ...\n",
       " $ jobtype         : Factor w/ 2 levels \"1\",\"2\": 1 1 1 1 1 1 1 1 1 1 ...\n",
       " $ location        : Factor w/ 3 levels \"3\",\"1\",\"2\": 2 3 3 3 3 3 1 3 3 3 ...\n",
       " $ note            : Factor w/ 2 levels \"\",\" (re-assigned at sampling from 110)\": 1 1 1 1 1 1 1 1 1 1 ...\n",
       " $ BOOKED.ON.EPIC  : Factor w/ 2 levels \"\",\"Y\": 2 2 2 2 2 2 2 2 2 2 ...\n",
       " $ DATE.TESTED     : Factor w/ 19 levels \"\",\"01/05/2020\",..: 12 10 10 10 10 10 10 18 19 19 ...\n",
       " $ BATCH           : Factor w/ 24 levels \"\",\"ICDV3\",\"ICDV9\",..: 6 16 16 16 16 16 16 6 7 7 ...\n",
       " $ RESULTED.ON.EPIC: Factor w/ 2 levels \"\",\"Y\": 2 2 2 2 2 2 2 2 2 2 ...\n",
       " $ bsa             : num  46.5 37 71 49 91 21.5 26 37.8 35.5 48.3 ...\n",
       " $ n               : num  325 238 616 29069 24532 ...\n",
       " $ s               : num  72.3 60 493 28165 10289 ...\n",
       " $ rbd             : num  127.3 53.5 76.5 16060.5 10194.5 ...\n",
       " $ lps             : num  1341 960 2963 1094 14314 ...\n",
       " $ sero            : Factor w/ 12 levels \"\",\"!\",\"(N) ?!\",..: 1 9 9 10 10 9 2 9 10 9 ...\n",
       " $ Comment         : Factor w/ 35 levels \"\",\" repeat\",\"?\",..: 3 1 1 1 1 1 26 1 1 1 ...\n",
       " $ checked         : Factor w/ 4 levels \"\",\"(ok)\",\"ok\",..: 1 3 3 3 3 3 2 1 3 3 ...\n",
       " $ nep             : Factor w/ 3 levels \"E\",\"N\",\"P\": NA 2 2 3 3 2 1 2 3 2 ...\n",
       " $ sero_svm        : num  0 0 0 1 1 0 0 0 1 0 ...\n"
      ]
     },
     "metadata": {},
     "output_type": "display_data"
    }
   ],
   "source": [
    "%%R\n",
    "str(staf)"
   ]
  },
  {
   "cell_type": "code",
   "execution_count": 9,
   "metadata": {},
   "outputs": [],
   "source": [
    "# %%R\n",
    "# #E is Positive\n",
    "# staf$ep <- staf$nep %in% c('E', 'P')\n",
    "\n",
    "# #E is Neagative\n",
    "# staf$en <- staf$nep == 'P'\n",
    "\n",
    "# #Custom seropositive cut off of N > 14900\n",
    "# staf$ncut <- staf$n > 14900"
   ]
  },
  {
   "cell_type": "code",
   "execution_count": 10,
   "metadata": {},
   "outputs": [],
   "source": [
    "%%R\n",
    "#Remove samples with mey missing data\n",
    "stafn <- staf[!is.na(staf$sero_svm) & !is.na(staf$location),]"
   ]
  },
  {
   "cell_type": "markdown",
   "metadata": {},
   "source": [
    "# Exploration plots\n",
    "Job type and location are clearly closely linked and likely be colinear, taking variance out of each other. Therefore, only one of these two should be included in a model. I favour location simply because it has more levels (both larger than the admin/non-patient groups)."
   ]
  },
  {
   "cell_type": "code",
   "execution_count": 11,
   "metadata": {},
   "outputs": [
    {
     "data": {
      "text/plain": [
       "   \n",
       "      0   1\n",
       "  3  47  13\n",
       "  1 115  11\n",
       "  2 241  41\n",
       "   \n",
       "       0    1\n",
       "  3 0.78 0.22\n",
       "  1 0.91 0.09\n",
       "  2 0.85 0.15\n"
      ]
     },
     "metadata": {},
     "output_type": "display_data"
    }
   ],
   "source": [
    "%%R\n",
    "#Counts of sero status by staff location\n",
    "# work location: 1=patient facing critical care; 2= patient facing non-critical care; 3 = nonpatient facing\n",
    "print(table(stafn$location, stafn$sero_svm))\n",
    "\n",
    "# Proportion of staff in that location with serostatus negative or positive\n",
    "round(\n",
    "    prop.table(table(stafn$location, stafn$sero_svm), 1),\n",
    "    2\n",
    ")"
   ]
  },
  {
   "cell_type": "code",
   "execution_count": 12,
   "metadata": {},
   "outputs": [
    {
     "data": {
      "text/plain": [
       "\n",
       "  0   1 \n",
       "423  70 \n",
       "\n",
       "        0         1 \n",
       "0.8611111 0.1388889 \n"
      ]
     },
     "metadata": {},
     "output_type": "display_data"
    }
   ],
   "source": [
    "%%R\n",
    "print(table(staf$sero_svm))\n",
    "#Proportion of staff classified as seronegative or seropositive\n",
    "prop.table(table(stafn$sero_svm))"
   ]
  },
  {
   "cell_type": "code",
   "execution_count": 13,
   "metadata": {},
   "outputs": [
    {
     "data": {
      "text/plain": [
       "[1] 41\n"
      ]
     },
     "metadata": {},
     "output_type": "display_data"
    }
   ],
   "source": [
    "%%R\n",
    "# Median age\n",
    "median(stafn$age, na.rm=T)"
   ]
  },
  {
   "cell_type": "code",
   "execution_count": 14,
   "metadata": {},
   "outputs": [
    {
     "data": {
      "text/plain": [
       "\n",
       "        f         m \n",
       "0.6984127 0.3015873 \n"
      ]
     },
     "metadata": {},
     "output_type": "display_data"
    }
   ],
   "source": [
    "%%R\n",
    "# Gender proportions\n",
    "prop.table(table(stafn$sex))"
   ]
  },
  {
   "cell_type": "code",
   "execution_count": 15,
   "metadata": {},
   "outputs": [
    {
     "data": {
      "text/plain": [
       "\n",
       "   1    2    3    4    5 \n",
       "0.79 0.03 0.16 0.02 0.00 \n"
      ]
     },
     "metadata": {},
     "output_type": "display_data"
    }
   ],
   "source": [
    "%%R\n",
    "\n",
    "# Gender proportions\n",
    "#ethicity 1=white; 2=mixed, 3=asian, 4=black, 5 =other\n",
    "\n",
    "round(\n",
    "    prop.table(table(stafn$ethnic)),\n",
    "      2)"
   ]
  },
  {
   "cell_type": "code",
   "execution_count": 16,
   "metadata": {},
   "outputs": [
    {
     "data": {
      "text/plain": [
       "\n",
       "        3         1         2 \n",
       "0.1282051 0.2692308 0.6025641 \n"
      ]
     },
     "metadata": {},
     "output_type": "display_data"
    }
   ],
   "source": [
    "%%R\n",
    "#Proportion of staff in different locations\n",
    "# work location: 1=patient facing critical care; 2= patient facing non-critical care; 3 = nonpatient facing\n",
    "prop.table(table(\n",
    "    stafn$location\n",
    "))"
   ]
  },
  {
   "cell_type": "markdown",
   "metadata": {},
   "source": [
    "Data for table 1"
   ]
  },
  {
   "cell_type": "code",
   "execution_count": 17,
   "metadata": {},
   "outputs": [
    {
     "data": {
      "text/plain": [
       ".\n",
       "  0   1 \n",
       "403  65 \n"
      ]
     },
     "metadata": {},
     "output_type": "display_data"
    }
   ],
   "source": [
    "%%R\n",
    "#Staff sero status\n",
    "stafn$sero_svm %>% table"
   ]
  },
  {
   "cell_type": "code",
   "execution_count": 18,
   "metadata": {},
   "outputs": [
    {
     "data": {
      "text/plain": [
       "   \n",
       "      0   1\n",
       "  f 263  45\n",
       "  m 118  15\n",
       "   \n",
       "            0         1\n",
       "  f 0.8538961 0.1461039\n",
       "  m 0.8872180 0.1127820\n",
       "[1] 27\n"
      ]
     },
     "metadata": {},
     "output_type": "display_data"
    }
   ],
   "source": [
    "%%R\n",
    "#Staff sex and serostatus\n",
    "table(stafn$sex, stafn$sero_svm) %>% print\n",
    "prop.table(table(stafn$sex, stafn$sero_svm), margin=1) %>% print\n",
    "\n",
    "#Number of staff with NA for sex\n",
    "sum(is.na(stafn$sex))"
   ]
  },
  {
   "cell_type": "code",
   "execution_count": 19,
   "metadata": {},
   "outputs": [
    {
     "data": {
      "text/plain": [
       "   \n",
       "      0   1\n",
       "  1 322  46\n",
       "  2  11   4\n",
       "  3  59  13\n",
       "  4   6   2\n",
       "  5   1   0\n",
       "   \n",
       "            0         1\n",
       "  1 0.8750000 0.1250000\n",
       "  2 0.7333333 0.2666667\n",
       "  3 0.8194444 0.1805556\n",
       "  4 0.7500000 0.2500000\n",
       "  5 1.0000000 0.0000000\n",
       "[1] 4\n"
      ]
     },
     "metadata": {},
     "output_type": "display_data"
    }
   ],
   "source": [
    "%%R\n",
    "# Staff ethnicity and serostatus\n",
    "table(stafn$ethnic, stafn$sero_svm) %>% print\n",
    "prop.table(table(stafn$ethnic, stafn$sero_svm), margin=1) %>% print\n",
    "sum(is.na(stafn$ethnic))"
   ]
  },
  {
   "cell_type": "code",
   "execution_count": 20,
   "metadata": {},
   "outputs": [
    {
     "data": {
      "text/plain": [
       "   \n",
       "      0   1\n",
       "  3  47  13\n",
       "  1 115  11\n",
       "  2 241  41\n",
       "   \n",
       "             0          1\n",
       "  3 0.78333333 0.21666667\n",
       "  1 0.91269841 0.08730159\n",
       "  2 0.85460993 0.14539007\n",
       "[1] 0\n"
      ]
     },
     "metadata": {},
     "output_type": "display_data"
    }
   ],
   "source": [
    "%%R\n",
    "# Staff location and serostatus\n",
    "# work location: 1=patient facing critical care; 2= patient facing non-critical care; 3 = nonpatient facing\n",
    "\n",
    "table(stafn$location, stafn$sero_svm) %>% print\n",
    "prop.table(table(stafn$location, stafn$sero_svm), margin=1) %>% print\n",
    "sum(is.na(stafn$location))"
   ]
  },
  {
   "cell_type": "code",
   "execution_count": 21,
   "metadata": {},
   "outputs": [
    {
     "data": {
      "text/plain": [
       "282"
      ]
     },
     "execution_count": 21,
     "metadata": {},
     "output_type": "execute_result"
    }
   ],
   "source": [
    "41+241"
   ]
  },
  {
   "cell_type": "markdown",
   "metadata": {},
   "source": [
    "# Fit models\n",
    "Initially lets use Rainer's categorisation but try with E as positive and negative, and dropping them."
   ]
  },
  {
   "cell_type": "code",
   "execution_count": 22,
   "metadata": {},
   "outputs": [],
   "source": [
    "# %%R\n",
    "# #NO E nep in model\n",
    "# noe1 <- glm(nep ~ location + jobtype, data=stafn[stafn$nep!=\"E\",], family=\"binomial\")\n",
    "# noe2 <- glm(nep ~ location + jobtype, data=stafn[stafn$nep!=\"E\",], family=\"binomial\")\n",
    "# noe3 <- glm(nep ~ location, data=stafn[stafn$nep!=\"E\",], family=\"binomial\")\n",
    "\n",
    "# AIC(noe1,noe2,noe3)"
   ]
  },
  {
   "cell_type": "code",
   "execution_count": 23,
   "metadata": {},
   "outputs": [],
   "source": [
    "# %%R\n",
    "# noe4 <- glm(nep ~ jobtype, data=stafn[stafn$nep!=\"E\",], family=\"binomial\")\n",
    "# dwplot(list(noe1,noe2,noe3, noe4))+\n",
    "# geom_vline(xintercept=0, lty=2)+\n",
    "# theme_dios()"
   ]
  },
  {
   "cell_type": "code",
   "execution_count": 24,
   "metadata": {},
   "outputs": [
    {
     "data": {
      "text/plain": [
       "      df     AICc\n",
       "ncut0  1 379.1617\n",
       "ncut3  3 377.2760\n",
       "\n",
       "Call:\n",
       "glm(formula = sero_svm ~ location, family = \"binomial\", data = stafn)\n",
       "\n",
       "Deviance Residuals: \n",
       "    Min       1Q   Median       3Q      Max  \n",
       "-0.6988  -0.5605  -0.5605  -0.4274   2.2083  \n",
       "\n",
       "Coefficients:\n",
       "            Estimate Std. Error z value Pr(>|z|)    \n",
       "(Intercept)  -1.2852     0.3134  -4.101 4.11e-05 ***\n",
       "location1    -1.0618     0.4448  -2.387    0.017 *  \n",
       "location2    -0.4860     0.3560  -1.365    0.172    \n",
       "---\n",
       "Signif. codes:  0 ‘***’ 0.001 ‘**’ 0.01 ‘*’ 0.05 ‘.’ 0.1 ‘ ’ 1\n",
       "\n",
       "(Dispersion parameter for binomial family taken to be 1)\n",
       "\n",
       "    Null deviance: 377.15  on 467  degrees of freedom\n",
       "Residual deviance: 371.22  on 465  degrees of freedom\n",
       "AIC: 377.22\n",
       "\n",
       "Number of Fisher Scoring iterations: 5\n",
       "\n"
      ]
     },
     "metadata": {},
     "output_type": "display_data"
    }
   ],
   "source": [
    "%%R\n",
    "\n",
    "# # Using our N only cutoff\n",
    "# ncut1 <- glm(ncut ~ location * jobtype, data=stafn, family=\"binomial\")\n",
    "# ncut2 <- glm(ncut ~ location + jobtype, data=stafn, family=\"binomial\")\n",
    "# ncut3 <- glm(ncut ~ location, data=stafn, family=\"binomial\")\n",
    "\n",
    "# Using the svm cut off\n",
    "ncut0 <- glm(sero_svm ~ 1, data=stafn, family=\"binomial\")\n",
    "# ncut1 <- glm(sero_svm ~ location * jobtype, data=stafn, family=\"binomial\")\n",
    "# ncut2 <- glm(sero_svm ~ location + jobtype, data=stafn, family=\"binomial\")\n",
    "ncut3 <- glm(sero_svm ~ location, data=stafn, family=\"binomial\")\n",
    "\n",
    "\n",
    "print(AICc(ncut0,ncut3))\n",
    "summary(ncut3)"
   ]
  },
  {
   "cell_type": "code",
   "execution_count": 25,
   "metadata": {},
   "outputs": [
    {
     "data": {
      "text/plain": [
       "              Estimate Std. Error   z value     Pr(>|z|)\n",
       "(Intercept) -1.2851982  0.3133683 -4.101239 4.109434e-05\n",
       "location1   -1.0618386  0.4447521 -2.387484 1.696412e-02\n",
       "location2   -0.4860266  0.3560046 -1.365226 1.721822e-01\n"
      ]
     },
     "metadata": {},
     "output_type": "display_data"
    }
   ],
   "source": [
    "%%R\n",
    "summary(ncut3)$coefficients"
   ]
  },
  {
   "cell_type": "code",
   "execution_count": 26,
   "metadata": {},
   "outputs": [
    {
     "data": {
      "text/plain": [
       "[1] 468\n"
      ]
     },
     "metadata": {},
     "output_type": "display_data"
    }
   ],
   "source": [
    "%%R\n",
    "nrow(model.matrix(ncut3))"
   ]
  },
  {
   "cell_type": "code",
   "execution_count": 27,
   "metadata": {
    "scrolled": false
   },
   "outputs": [
    {
     "data": {
      "text/plain": [
       "NULL\n"
      ]
     },
     "metadata": {},
     "output_type": "display_data"
    }
   ],
   "source": [
    "%%R\n",
    "#Model validation\n",
    "\n",
    "# plot(ncut3)"
   ]
  },
  {
   "cell_type": "code",
   "execution_count": 28,
   "metadata": {},
   "outputs": [
    {
     "data": {
      "image/png": "[encoded data removed]"
     },
     "metadata": {},
     "output_type": "display_data"
    }
   ],
   "source": [
    "%%R -w 700 -h 700\n",
    "op <- par()\n",
    "par(mfrow=(c(2,2)))\n",
    "\n",
    "E <- resid(ncut3)\n",
    "\n",
    "hist(E)\n",
    "plot(jitter(fitted(ncut3),2),jitter(E,20))\n",
    "plot(stafn$location, jitter(E,20))\n",
    "plot(stafn$jobtype, jitter(E,20))\n",
    "\n",
    "par(op)"
   ]
  },
  {
   "cell_type": "code",
   "execution_count": 29,
   "metadata": {},
   "outputs": [
    {
     "data": {
      "image/png": "[encoded data removed]"
     },
     "metadata": {},
     "output_type": "display_data"
    }
   ],
   "source": [
    "%%R\n",
    "nd <- data.frame(location=levels(staf$location))\n",
    "nd <- cbind(nd, predict(ncut3, newdata=nd, se.fit=T))\n",
    "\n",
    "fig <- \n",
    "ggplot(nd, aes(x=location, y=plogis(fit))) +\n",
    "geom_errorbar(aes(ymin=plogis(fit-(1.96*se.fit)), ymax=plogis(fit+(1.96*se.fit))))+\n",
    "geom_point(size=3)+\n",
    "xlab(\"Location\")+\n",
    "ylab(\"Seropositive probability\")+\n",
    "ylim(c(0,0.4))+\n",
    "scale_x_discrete(labels=c('Critical patients', \"Non-critical patients\", \"Non-patient facing\"))+\n",
    "# theme_dios()\n",
    "theme_classic()\n",
    "\n",
    "fig"
   ]
  },
  {
   "cell_type": "code",
   "execution_count": 30,
   "metadata": {},
   "outputs": [
    {
     "data": {
      "text/plain": [
       "NULL\n"
      ]
     },
     "metadata": {},
     "output_type": "display_data"
    }
   ],
   "source": [
    "%%R\n",
    "# ggsave(\"figure location FX.jpg\", fig, dpi=300)"
   ]
  },
  {
   "cell_type": "code",
   "execution_count": 35,
   "metadata": {},
   "outputs": [
    {
     "data": {
      "text/plain": [
       "`summarise()` ungrouping output (override with `.groups` argument)\n"
      ]
     },
     "metadata": {},
     "output_type": "display_data"
    },
    {
     "data": {
      "image/png": "[encoded data removed]"
     },
     "metadata": {},
     "output_type": "display_data"
    }
   ],
   "source": [
    "%%R\n",
    "stafnsum <- summarise(group_by(stafn, location), \n",
    "                      sero_n=sum(sero_svm==0), \n",
    "                      sero_p=sum(sero_svm==1),\n",
    "                      n=n(), propP=mean(sero_svm))\n",
    "stafnsum$percP <- stafnsum$propP*100\n",
    "\n",
    "levels(stafnsum$location) <- c(\"Non-patient facing\",\"Critical patients\", \"Non-critical patients\")\n",
    "\n",
    "fig <-\n",
    "ggplot(stafnsum, aes(x=location, y=percP))+\n",
    "geom_bar(stat=\"identity\")+\n",
    "geom_segment(aes(x=1, xend=3, y=25, yend=25))+\n",
    "annotate(geom=\"text\",x=2, y=26, label=\"*\", size=10)+\n",
    "geom_segment(aes(x=2, xend=3, y=22.5, yend=22.5))+\n",
    "annotate(geom=\"text\",x=2.5, y=23.5, label=\"NS\", size=8)+\n",
    "scale_x_discrete(limits=c(\"Critical patients\", \"Non-critical patients\", \"Non-patient facing\"))+\n",
    "ylab(\"Seropositive percentage\")+\n",
    "xlab(\"Location\")+\n",
    "theme_classic()+\n",
    "theme(text=element_text(size=15))\n",
    "\n",
    "fig"
   ]
  },
  {
   "cell_type": "code",
   "execution_count": 36,
   "metadata": {},
   "outputs": [
    {
     "name": "stderr",
     "output_type": "stream",
     "text": [
      "/home/david/miniconda3/envs/HICC_datapipe/lib/python3.7/site-packages/rpy2/rinterface/__init__.py:146: RRuntimeWarning: Saving 6.67 x 6.67 in image\n",
      "\n",
      "  warnings.warn(x, RRuntimeWarning)\n"
     ]
    }
   ],
   "source": [
    "%%R\n",
    "# ggsave(\"figure2.jpg\", fig, dpi=300)\n",
    "# write.csv(stafnsum, \"location_proportions.csv\", row.names=F)"
   ]
  },
  {
   "cell_type": "markdown",
   "metadata": {},
   "source": [
    "## Add ethnicity"
   ]
  },
  {
   "cell_type": "code",
   "execution_count": 22,
   "metadata": {},
   "outputs": [
    {
     "data": {
      "text/plain": [
       "   df     AICc\n",
       "e0  1 348.8083\n",
       "e1  2 349.3321\n",
       "e2  3 345.2673\n",
       "e3  4 345.2349\n",
       "e4  6 346.9954\n"
      ]
     },
     "metadata": {},
     "output_type": "display_data"
    }
   ],
   "source": [
    "%%R\n",
    "# Using the svm cut off\n",
    "e0 <- glm(sero_svm ~ 1, data=filter(stafn, ethnicity %in% c(1,3)), family=\"binomial\")\n",
    "e1 <- glm(sero_svm ~ ethnicity, data=filter(stafn, ethnicity %in% c(1,3)), family=\"binomial\")\n",
    "e2 <- glm(sero_svm ~ location, data=filter(stafn, ethnicity %in% c(1,3)), family=\"binomial\")\n",
    "e3 <- glm(sero_svm ~ location + ethnicity, data=filter(stafn, ethnicity %in% c(1,3)), family=\"binomial\")\n",
    "e4 <- glm(sero_svm ~ location * ethnicity, data=filter(stafn, ethnicity %in% c(1,3)), family=\"binomial\")\n",
    "\n",
    "AICc(e0,e1,e2,e3, e4)"
   ]
  },
  {
   "cell_type": "code",
   "execution_count": 23,
   "metadata": {},
   "outputs": [
    {
     "data": {
      "text/plain": [
       " model weights \n",
       "[1] 0.062 0.048 0.365 0.371 0.154\n"
      ]
     },
     "metadata": {},
     "output_type": "display_data"
    }
   ],
   "source": [
    "%%R\n",
    "Weights(AICc(e0,e1,e2,e3, e4))"
   ]
  },
  {
   "cell_type": "code",
   "execution_count": 24,
   "metadata": {},
   "outputs": [
    {
     "data": {
      "text/plain": [
       "\n",
       "Call:\n",
       "glm(formula = sero_svm ~ location + ethnicity, family = \"binomial\", \n",
       "    data = filter(stafn, ethnicity %in% c(1, 3)))\n",
       "\n",
       "Deviance Residuals: \n",
       "    Min       1Q   Median       3Q      Max  \n",
       "-0.8567  -0.5291  -0.5291  -0.3720   2.3260  \n",
       "\n",
       "Coefficients:\n",
       "            Estimate Std. Error z value Pr(>|z|)    \n",
       "(Intercept)  -1.3331     0.3193  -4.176 2.97e-05 ***\n",
       "location1    -1.3028     0.4711  -2.766  0.00568 ** \n",
       "location2    -0.5626     0.3625  -1.552  0.12062    \n",
       "ethnicity3    0.5198     0.3502   1.484  0.13771    \n",
       "---\n",
       "Signif. codes:  0 ‘***’ 0.001 ‘**’ 0.01 ‘*’ 0.05 ‘.’ 0.1 ‘ ’ 1\n",
       "\n",
       "(Dispersion parameter for binomial family taken to be 1)\n",
       "\n",
       "    Null deviance: 346.80  on 439  degrees of freedom\n",
       "Residual deviance: 337.14  on 436  degrees of freedom\n",
       "AIC: 345.14\n",
       "\n",
       "Number of Fisher Scoring iterations: 5\n",
       "\n"
      ]
     },
     "metadata": {},
     "output_type": "display_data"
    }
   ],
   "source": [
    "%%R\n",
    "summary(e3)"
   ]
  },
  {
   "cell_type": "code",
   "execution_count": 25,
   "metadata": {},
   "outputs": [
    {
     "data": {
      "image/png": "[encoded data removed]"
     },
     "metadata": {},
     "output_type": "display_data"
    }
   ],
   "source": [
    "%%R\n",
    "nd <- data.frame(expand.grid(location=levels(staf$location), ethnicity=as.factor(c(1,3))))\n",
    "nd <- cbind(nd, predict(e3, newdata=nd, se.fit=T))\n",
    "\n",
    "ggplot(nd, aes(x=location, y=plogis(fit), colour=ethnicity)) +\n",
    "geom_errorbar(aes(ymin=plogis(fit-(1.96*se.fit)), ymax=plogis(fit+(1.96*se.fit))))+\n",
    "geom_point(size=3)+\n",
    "xlab(\"Location\")+\n",
    "ylab(\"Seropositive probability\")+\n",
    "ylim(c(0,0.5))+\n",
    "scale_x_discrete(labels=c('Critical patients', \"Non-critical patients\", \"Non-patient facing\"))+\n",
    "theme_dios()"
   ]
  },
  {
   "cell_type": "code",
   "execution_count": 1,
   "metadata": {},
   "outputs": [
    {
     "name": "stderr",
     "output_type": "stream",
     "text": [
      "UsageError: Cell magic `%%R` not found.\n"
     ]
    }
   ],
   "source": []
  },
  {
   "cell_type": "code",
   "execution_count": null,
   "metadata": {},
   "outputs": [],
   "source": []
  }
 ],
 "metadata": {
  "kernelspec": {
   "display_name": "Python 3",
   "language": "python",
   "name": "python3"
  },
  "language_info": {
   "codemirror_mode": {
    "name": "ipython",
    "version": 3
   },
   "file_extension": ".py",
   "mimetype": "text/x-python",
   "name": "python",
   "nbconvert_exporter": "python",
   "pygments_lexer": "ipython3",
   "version": "3.7.4"
  }
 },
 "nbformat": 4,
 "nbformat_minor": 4
}
