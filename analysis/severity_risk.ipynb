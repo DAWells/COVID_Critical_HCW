{
 "cells": [
  {
   "cell_type": "markdown",
   "metadata": {},
   "source": [
    "# Risk factors for disease severity in Papworth staff\n",
    "- What demographic factors affect the severity of infection amongst seropositive staff?\n",
    "- How do antibody responses differ within seropositive staff?\n",
    "- Does it correlate with the severity of infection?"
   ]
  },
  {
   "cell_type": "code",
   "execution_count": 2,
   "metadata": {},
   "outputs": [],
   "source": [
    "import os\n",
    "import datetime\n",
    "\n",
    "import numpy as np\n",
    "import pandas as pd\n",
    "import matplotlib.pyplot as plt\n",
    "import seaborn\n",
    "\n",
    "%load_ext rpy2.ipython\n",
    "from rpy2.robjects import r"
   ]
  },
  {
   "cell_type": "code",
   "execution_count": 4,
   "metadata": {
    "scrolled": true
   },
   "outputs": [
    {
     "data": {
      "text/plain": [
       "[[1]]\n",
       "[1] TRUE\n",
       "\n",
       "[[2]]\n",
       "[1] TRUE\n",
       "\n",
       "[[3]]\n",
       "[1] FALSE\n",
       "\n",
       "[[4]]\n",
       "[1] TRUE\n",
       "\n",
       "[[5]]\n",
       "[1] TRUE\n",
       "\n",
       "[[6]]\n",
       "[1] FALSE\n",
       "\n",
       "[[7]]\n",
       "[1] TRUE\n",
       "\n",
       "[[8]]\n",
       "[1] TRUE\n",
       "\n",
       "[[9]]\n",
       "[1] FALSE\n",
       "\n",
       "[[10]]\n",
       "[1] TRUE\n",
       "\n",
       "[[11]]\n",
       "[1] TRUE\n",
       "\n"
      ]
     },
     "metadata": {},
     "output_type": "display_data"
    }
   ],
   "source": [
    "%%R\n",
    "packages <- c(\"ggplot2\", \"dplyr\", \"diosR\", \"plot.matrix\", \"broom\", \"dotwhisker\", \"MASS\", \"MuMIn\", \"VGAM\", \"effects\", \"pbkrtest\")\n",
    "lapply(packages, require, character.only=T)"
   ]
  },
  {
   "cell_type": "code",
   "execution_count": 5,
   "metadata": {},
   "outputs": [],
   "source": [
    "os.chdir(\"/home/david/linux_work/coronavirus_2020/papworth/staff_analysis/data\")"
   ]
  },
  {
   "cell_type": "code",
   "execution_count": 6,
   "metadata": {},
   "outputs": [
    {
     "data": {
      "text/plain": [
       "R version 3.6.1 (2019-07-05)\n",
       "Platform: x86_64-conda_cos6-linux-gnu (64-bit)\n",
       "Running under: Ubuntu 18.04.5 LTS\n",
       "\n",
       "Matrix products: default\n",
       "BLAS/LAPACK: /home/david/miniconda3/envs/HICC_datapipe/lib/libmkl_rt.so\n",
       "\n",
       "locale:\n",
       " [1] LC_CTYPE=C.UTF-8       LC_NUMERIC=C           LC_TIME=C.UTF-8       \n",
       " [4] LC_COLLATE=C.UTF-8     LC_MONETARY=C.UTF-8    LC_MESSAGES=C.UTF-8   \n",
       " [7] LC_PAPER=C.UTF-8       LC_NAME=C              LC_ADDRESS=C          \n",
       "[10] LC_TELEPHONE=C         LC_MEASUREMENT=C.UTF-8 LC_IDENTIFICATION=C   \n",
       "\n",
       "attached base packages:\n",
       "[1] tools     stats     graphics  grDevices utils     datasets  methods  \n",
       "[8] base     \n",
       "\n",
       "other attached packages:\n",
       " [1] pbkrtest_0.5-0.1  lme4_1.1-21       Matrix_1.2-17     effects_4.2-0    \n",
       " [5] carData_3.0-4     MuMIn_1.43.17     MASS_7.3-51.3     broom_0.5.2      \n",
       " [9] plot.matrix_1.5.2 dplyr_1.0.2       ggplot2_3.1.1    \n",
       "\n",
       "loaded via a namespace (and not attached):\n",
       " [1] Rcpp_1.0.5        nloptr_1.2.2.2    pillar_1.4.7      compiler_3.6.1   \n",
       " [5] plyr_1.8.4        boot_1.3-20       lifecycle_0.2.0   tibble_3.0.4     \n",
       " [9] nlme_3.1-139      gtable_0.3.0      lattice_0.20-38   pkgconfig_2.0.2  \n",
       "[13] rlang_0.4.10      DBI_1.0.0         parallel_3.6.1    withr_2.4.1      \n",
       "[17] mitools_2.4       generics_0.0.2    vctrs_0.3.6       nnet_7.3-12      \n",
       "[21] stats4_3.6.1      grid_3.6.1        tidyselect_1.1.0  glue_1.4.2       \n",
       "[25] R6_2.4.0          survival_2.44-1.1 minqa_1.2.4       purrr_0.3.4      \n",
       "[29] tidyr_1.1.2       magrittr_1.5      scales_1.0.0      backports_1.1.4  \n",
       "[33] ellipsis_0.3.1    splines_3.6.1     insight_0.13.1    colorspace_1.4-1 \n",
       "[37] survey_4.0        lazyeval_0.2.2    munsell_0.5.0     crayon_1.3.4     \n"
      ]
     },
     "metadata": {},
     "output_type": "display_data"
    }
   ],
   "source": [
    "%%R\n",
    "sessionInfo()"
   ]
  },
  {
   "cell_type": "markdown",
   "metadata": {},
   "source": [
    "# Preprocessing"
   ]
  },
  {
   "cell_type": "code",
   "execution_count": 7,
   "metadata": {},
   "outputs": [],
   "source": [
    "%%R\n",
    "staf <- read.csv('staff_svm_demographic_antibodies.csv')"
   ]
  },
  {
   "cell_type": "code",
   "execution_count": 8,
   "metadata": {},
   "outputs": [],
   "source": [
    "%%R\n",
    "#Set missing sex data to NA\n",
    "levels(staf$sex)[which(levels(staf$sex)==\"\")] <- NA\n",
    "levels(staf$nep)[which(levels(staf$nep)==\"\")] <- NA"
   ]
  },
  {
   "cell_type": "code",
   "execution_count": 9,
   "metadata": {},
   "outputs": [],
   "source": [
    "%%R\n",
    "#Set severity, ethnicity, jobtype, and location to factors\n",
    "staf$severity <- as.factor(staf$severity)\n",
    "staf$ethnicity <- as.factor(staf$ethnicity)\n",
    "# levels(staf$ethnicity) <- c('white', 'mixed', 'asian', 'black', 'other')\n",
    "staf$jobtype <- as.factor(staf$jobtype)\n",
    "staf$location <- as.factor(staf$location)"
   ]
  },
  {
   "cell_type": "code",
   "execution_count": 10,
   "metadata": {},
   "outputs": [
    {
     "data": {
      "text/plain": [
       "'data.frame':\t500 obs. of  23 variables:\n",
       " $ id              : Factor w/ 500 levels \"staff1\",\"staff10\",..: 1 112 223 334 445 457 479 468 490 2 ...\n",
       " $ laminar         : num  NA NA NA 2 NA NA NA NA NA NA ...\n",
       " $ age             : num  NA 42 NA 39 53 42 40 55 31 51 ...\n",
       " $ sex             : Factor w/ 2 levels \"f\",\"m\": 2 1 1 1 2 1 1 2 2 2 ...\n",
       " $ severity        : Factor w/ 4 levels \"1\",\"2\",\"3\",\"4\": 2 2 1 3 2 1 3 2 NA 1 ...\n",
       " $ ethnicity       : Factor w/ 5 levels \"1\",\"2\",\"3\",\"4\",..: 3 1 1 1 1 1 3 1 1 1 ...\n",
       " $ jobtype         : Factor w/ 2 levels \"1\",\"2\": 1 1 1 1 1 1 1 1 1 1 ...\n",
       " $ location        : Factor w/ 3 levels \"1\",\"2\",\"3\": 1 2 2 2 2 2 3 2 2 2 ...\n",
       " $ note            : Factor w/ 2 levels \"\",\" (re-assigned at sampling from 110)\": 1 1 1 1 1 1 1 1 1 1 ...\n",
       " $ BOOKED.ON.EPIC  : Factor w/ 2 levels \"\",\"Y\": 2 2 2 2 2 2 2 2 2 2 ...\n",
       " $ DATE.TESTED     : Factor w/ 19 levels \"\",\"01/05/2020\",..: 12 10 10 10 10 10 10 18 19 19 ...\n",
       " $ BATCH           : Factor w/ 24 levels \"\",\"ICDV3\",\"ICDV9\",..: 6 16 16 16 16 16 16 6 7 7 ...\n",
       " $ RESULTED.ON.EPIC: Factor w/ 2 levels \"\",\"Y\": 2 2 2 2 2 2 2 2 2 2 ...\n",
       " $ bsa             : num  46.5 37 71 49 91 21.5 26 37.8 35.5 48.3 ...\n",
       " $ n               : num  325 238 616 29069 24532 ...\n",
       " $ s               : num  72.3 60 493 28165 10289 ...\n",
       " $ rbd             : num  127.3 53.5 76.5 16060.5 10194.5 ...\n",
       " $ lps             : num  1341 960 2963 1094 14314 ...\n",
       " $ sero            : Factor w/ 12 levels \"\",\"!\",\"(N) ?!\",..: 1 9 9 10 10 9 2 9 10 9 ...\n",
       " $ Comment         : Factor w/ 35 levels \"\",\" repeat\",\"?\",..: 3 1 1 1 1 1 26 1 1 1 ...\n",
       " $ checked         : Factor w/ 4 levels \"\",\"(ok)\",\"ok\",..: 1 3 3 3 3 3 2 1 3 3 ...\n",
       " $ nep             : Factor w/ 3 levels \"E\",\"N\",\"P\": NA 2 2 3 3 2 1 2 3 2 ...\n",
       " $ sero_svm        : num  0 0 0 1 1 0 0 0 1 0 ...\n"
      ]
     },
     "metadata": {},
     "output_type": "display_data"
    }
   ],
   "source": [
    "%%R\n",
    "str(staf)"
   ]
  },
  {
   "cell_type": "code",
   "execution_count": 11,
   "metadata": {},
   "outputs": [],
   "source": [
    "%%R\n",
    "#Remove samples with any missing data\n",
    "stafn <- staf[!is.na(staf$severity) & !is.na(staf$age) & !is.na(staf$sex),]"
   ]
  },
  {
   "cell_type": "code",
   "execution_count": 12,
   "metadata": {},
   "outputs": [],
   "source": [
    "%%R\n",
    "#We are only interested in severity amongst SerO Positive samples\n",
    "sop <- filter(stafn, sero_svm==1)\n",
    "\n",
    "#Merge severity 3 and 4 because there is only one case of 4.\n",
    "sop$severity3 <- sop$severity\n",
    "sop$severity3[sop$severity == 4] <- 3\n",
    "sop$severity3 <- ordered(sop$severity3)\n",
    "\n",
    "sop$diseased <- sop$severity != 1"
   ]
  },
  {
   "cell_type": "code",
   "execution_count": 13,
   "metadata": {},
   "outputs": [],
   "source": [
    "%%R\n",
    "# Effects due to coronavirus infection should not be observed in seronegative samples\n",
    "#SerONegative cases\n",
    "son <- filter(stafn, sero_svm==0)\n",
    "\n",
    "#Merge severity 3 and 4 because there is only one case of 4.\n",
    "son$severity3 <- son$severity\n",
    "son$severity3[son$severity == 4] <- 3\n",
    "son$severity3 <- ordered(son$severity3)\n",
    "\n",
    "son$diseased <- son$severity != 1"
   ]
  },
  {
   "cell_type": "markdown",
   "metadata": {},
   "source": [
    "# Exploration plots\n",
    "Age, sex and ethnicity are the three demographic variables to consider."
   ]
  },
  {
   "cell_type": "code",
   "execution_count": 14,
   "metadata": {},
   "outputs": [
    {
     "data": {
      "text/plain": [
       "\n",
       " f  m \n",
       "45 16 \n"
      ]
     },
     "metadata": {},
     "output_type": "display_data"
    }
   ],
   "source": [
    "%%R\n",
    "table(sop$sex)"
   ]
  },
  {
   "cell_type": "code",
   "execution_count": 15,
   "metadata": {},
   "outputs": [
    {
     "data": {
      "text/plain": [
       "   \n",
       "     1  2  3  4\n",
       "  f 14 28  3  0\n",
       "  m  4  5  6  1\n"
      ]
     },
     "metadata": {},
     "output_type": "display_data"
    }
   ],
   "source": [
    "%%R\n",
    "table(sop$sex, sop$severity)"
   ]
  },
  {
   "cell_type": "code",
   "execution_count": 16,
   "metadata": {
    "scrolled": false
   },
   "outputs": [
    {
     "data": {
      "image/png": "[encoded data removed]"
     },
     "metadata": {},
     "output_type": "display_data"
    },
    {
     "data": {
      "image/png": "[encoded data removed]"
     },
     "metadata": {},
     "output_type": "display_data"
    },
    {
     "data": {
      "image/png": "[encoded data removed]"
     },
     "metadata": {},
     "output_type": "display_data"
    },
    {
     "data": {
      "image/png": "[encoded data removed]"
     },
     "metadata": {},
     "output_type": "display_data"
    },
    {
     "data": {
      "image/png": "[encoded data removed]"
     },
     "metadata": {},
     "output_type": "display_data"
    }
   ],
   "source": [
    "%%R -w 800\n",
    "\n",
    "#SEVerity PALette\n",
    "sev_pal <- c(\"grey\", \"navajowhite\", \"#F9BA3E\", \"#F9823E\")\n",
    "\n",
    "print(ggplot(sop, aes(x=severity, fill=severity))+\n",
    "geom_bar(colour=\"darkgrey\")+\n",
    "scale_fill_manual(values=sev_pal)+\n",
    "xlab(\"Severity\")+\n",
    "ylab(\"Count\")+\n",
    "guides(fill=guide_legend(title=\"Severity\"))+\n",
    "# theme_dios()\n",
    "theme_classic()\n",
    ")\n",
    "\n",
    "plot(sop$sex, sop$severity, col=sev_pal)\n",
    "\n",
    "plot(sop$ethnicity, sop$severity, col=sev_pal)\n",
    "\n",
    "print(ggplot(sop, aes(x=age, fill=severity))+\n",
    "geom_histogram(bins=10, colour=\"darkgrey\")+\n",
    "facet_wrap(.~severity)+\n",
    "scale_fill_manual(values=sev_pal)+\n",
    "# theme_dios()\n",
    "theme_classic()\n",
    ")\n",
    "\n",
    "sex_labeller <- function(variable, value){\n",
    "    sex_labels <- list(\"f\"=\"Female\", \"m\"=\"Male\")\n",
    "    return(sex_labels[value])\n",
    "}\n",
    "\n",
    "fig <- \n",
    "ggplot(sop, aes(x=age, fill=severity))+\n",
    "geom_histogram(bins=10, colour=\"darkgrey\")+\n",
    "facet_wrap(.~sex, labeller=sex_labeller)+\n",
    "scale_fill_manual(values=sev_pal)+\n",
    "xlab(\"Age\")+\n",
    "ylab(\"Count\")+\n",
    "guides(fill=guide_legend(title=\"Severity\"))+\n",
    "scale_y_continuous(breaks=c(seq(0,10,2)))+\n",
    "theme_classic()+\n",
    "theme(text=element_text(size=15))\n",
    "\n",
    "print(fig)"
   ]
  },
  {
   "cell_type": "code",
   "execution_count": 20,
   "metadata": {},
   "outputs": [],
   "source": [
    "%%R\n",
    "ggsave(\"figure4a.jpg\", fig, dpi=300, units=\"in\", width=8, height=5)\n",
    "write.csv(sop, \"seropositive_samples_histogram.csv\", row.names=F)"
   ]
  },
  {
   "cell_type": "code",
   "execution_count": 25,
   "metadata": {},
   "outputs": [
    {
     "data": {
      "text/plain": [
       "   \n",
       "      1   2   3   4\n",
       "  0 232 140  16   0\n",
       "  1  18  33   9   1\n"
      ]
     },
     "metadata": {},
     "output_type": "display_data"
    }
   ],
   "source": [
    "%%R\n",
    "ggplot(stafn, aes(x=severity, fill=severity))+\n",
    "geom_bar(colour=\"darkgrey\")+\n",
    "facet_wrap(.~sero_svm)+\n",
    "scale_fill_manual(values=sev_pal)+\n",
    "xlab(\"Severity\")+\n",
    "ylab(\"Count\")+\n",
    "guides(fill=guide_legend(title=\"Severity\"))+\n",
    "# theme_dios()\n",
    "theme_classic()\n",
    "\n",
    "table(stafn$sero_svm, stafn$severity)"
   ]
  },
  {
   "cell_type": "markdown",
   "metadata": {},
   "source": [
    "# Fit models"
   ]
  },
  {
   "cell_type": "code",
   "execution_count": 26,
   "metadata": {},
   "outputs": [
    {
     "data": {
      "text/plain": [
       "   df      AIC\n",
       "m0  2 124.6520\n",
       "m1  3 124.8375\n",
       "m2  3 121.6410\n",
       "m3  4 122.1578\n",
       "m4  5 118.4226\n",
       "[1] 124.8589 125.2586 122.0620 122.8721 119.5135\n",
       " model weights \n",
       "[1] 0.043 0.036 0.176 0.117 0.628\n"
      ]
     },
     "metadata": {},
     "output_type": "display_data"
    }
   ],
   "source": [
    "%%R\n",
    "m0 <- polr(severity3 ~ 1, data=sop, Hess=T)\n",
    "m1 <- polr(severity3 ~ age, data=sop, Hess=T)\n",
    "m2 <- polr(severity3 ~ sex, data=sop, Hess=T)\n",
    "m3 <- polr(severity3 ~ age + sex, data=sop, Hess=T)\n",
    "m4 <- polr(severity3 ~ age * sex, data=sop, Hess=T)\n",
    "\n",
    "aicc <- function(m){\n",
    "    k <- m$edf\n",
    "    AIC(m) + ((2*k**2+2*k)/(m$n-k-1))\n",
    "}\n",
    "\n",
    "print(AIC(m0, m1, m2, m3, m4))\n",
    "print(c(aicc(m0), aicc(m1), aicc(m2), aicc(m3), aicc(m4)))\n",
    "Weights(c(aicc(m0), aicc(m1), aicc(m2), aicc(m3), aicc(m4)))"
   ]
  },
  {
   "cell_type": "code",
   "execution_count": 27,
   "metadata": {},
   "outputs": [
    {
     "data": {
      "text/plain": [
       " 0  1 \n",
       "45 16 \n"
      ]
     },
     "metadata": {},
     "output_type": "display_data"
    }
   ],
   "source": [
    "%%R\n",
    "summary(as.factor(as.data.frame(model.matrix(m4))$sex))"
   ]
  },
  {
   "cell_type": "code",
   "execution_count": 28,
   "metadata": {},
   "outputs": [
    {
     "data": {
      "text/plain": [
       "Likelihood ratio tests of ordinal regression models\n",
       "\n",
       "Response: severity3\n",
       "      Model Resid. df Resid. Dev   Test    Df LR stat.   Pr(Chi)\n",
       "1 age + sex        57   114.1578                                \n",
       "2 age * sex        56   108.4226 1 vs 2     1 5.735282 0.0166274\n"
      ]
     },
     "metadata": {},
     "output_type": "display_data"
    }
   ],
   "source": [
    "%%R\n",
    "anova(m4, m3, test=\"Chisq\")"
   ]
  },
  {
   "cell_type": "code",
   "execution_count": 29,
   "metadata": {},
   "outputs": [
    {
     "data": {
      "text/plain": [
       "'log Lik.' 5.735282 (df=5)\n"
      ]
     },
     "metadata": {},
     "output_type": "display_data"
    }
   ],
   "source": [
    "%%R\n",
    "(2*logLik(m4))-(2*logLik(m3))"
   ]
  },
  {
   "cell_type": "code",
   "execution_count": 30,
   "metadata": {
    "scrolled": false
   },
   "outputs": [
    {
     "data": {
      "text/plain": [
       "Call:\n",
       "polr(formula = severity3 ~ age * sex, data = sop, Hess = T)\n",
       "\n",
       "Coefficients:\n",
       "             Value Std. Error t value\n",
       "age      -0.003358    0.02680 -0.1253\n",
       "sexm     -4.529895    2.56150 -1.7685\n",
       "age:sexm  0.128700    0.05586  2.3039\n",
       "\n",
       "Intercepts:\n",
       "    Value   Std. Error t value\n",
       "1|2 -0.8542  1.2513    -0.6827\n",
       "2|3  2.1148  1.2956     1.6323\n",
       "\n",
       "Residual Deviance: 108.4226 \n",
       "AIC: 118.4226 \n"
      ]
     },
     "metadata": {},
     "output_type": "display_data"
    }
   ],
   "source": [
    "%%R\n",
    "summary(m4)"
   ]
  },
  {
   "cell_type": "code",
   "execution_count": 31,
   "metadata": {},
   "outputs": [],
   "source": [
    "%%R\n",
    "#Generate data for predictions\n",
    "n <- 100\n",
    "age <- seq(min(sop$age), max(sop$age), length.out=n)\n",
    "sex <- c(\"f\", \"m\")\n",
    "\n",
    "nd <- expand.grid(age=age, sex=sex)\n",
    "nd <- cbind(nd, predict(m4, type=\"probs\", newdata=nd))\n",
    "names(nd)[match(1:3, names(nd))] <- paste0(\"Severity\", 1:3)"
   ]
  },
  {
   "cell_type": "code",
   "execution_count": 32,
   "metadata": {
    "scrolled": false
   },
   "outputs": [],
   "source": [
    "# %%R -w 800\n",
    "\n",
    "# sex_labeller <- function(variable, value){\n",
    "#     sex_labels <- list(\"f\"=\"Female\", \"m\"=\"Male\")\n",
    "#     return(sex_labels[value])\n",
    "# }\n",
    "\n",
    "# ggplot(nd, aes(x=age, y=Severity1, lty=sex))+\n",
    "# geom_line(size=3)+\n",
    "# geom_line(aes(y=Severity2), size=3, colour = \"navajowhite\")+\n",
    "# geom_line(aes(y=Severity3), size=3, colour = \"orange\")+\n",
    "# facet_wrap(.~sex, labeller=sex_labeller)+\n",
    "# guides(lty=F)+\n",
    "# xlab(\"Age\")+\n",
    "# ylab(\"Probability of severity class\")+\n",
    "# theme_dios()"
   ]
  },
  {
   "cell_type": "code",
   "execution_count": 33,
   "metadata": {
    "scrolled": false
   },
   "outputs": [
    {
     "data": {
      "image/png": "[encoded data removed]"
     },
     "metadata": {},
     "output_type": "display_data"
    },
    {
     "data": {
      "image/png": "[encoded data removed]"
     },
     "metadata": {},
     "output_type": "display_data"
    },
    {
     "data": {
      "image/png": "[encoded data removed]"
     },
     "metadata": {},
     "output_type": "display_data"
    }
   ],
   "source": [
    "%%R -w 800\n",
    "print(plot(effect(\"age*sex\", m4, xlevels=50)))\n",
    "print(plot(effect(\"age*sex\", m4, xlevels=50), style=\"stacked\"))\n",
    "print(plot(effect(\"age*sex\", m4, xlevels=50, latent=T)))"
   ]
  },
  {
   "cell_type": "code",
   "execution_count": 43,
   "metadata": {},
   "outputs": [
    {
     "data": {
      "image/png": "[encoded data removed]"
     },
     "metadata": {},
     "output_type": "display_data"
    }
   ],
   "source": [
    "%%R -w 800 -h 400\n",
    "#m4 effects\n",
    "m4f <- effect(\"age*sex\", m4, xlevels=1000)\n",
    "\n",
    "nd <- cbind(\n",
    "    m4f$x,\n",
    "    m4f$prob,\n",
    "    m4f$lower.prob,\n",
    "    m4f$upper.prob\n",
    ")\n",
    "\n",
    "fig <- \n",
    "ggplot(nd, aes(x=age, y=prob.X1, lty=sex))+\n",
    "geom_ribbon(aes(ymin=L.prob.X1, ymax=U.prob.X1), alpha=0.2, fill=\"grey\")+\n",
    "geom_ribbon(aes(ymin=L.prob.X2, ymax=U.prob.X2), alpha=0.2, fill=\"navajowhite\")+\n",
    "geom_ribbon(aes(ymin=L.prob.X3, ymax=U.prob.X3), alpha=0.2, fill=\"orange\")+\n",
    "geom_line(size=2, colour=\"grey\")+\n",
    "geom_line(aes(y=prob.X2), size=2, colour = \"navajowhite\")+\n",
    "geom_line(aes(y=prob.X3), size=2, colour = \"orange\")+\n",
    "facet_wrap(.~sex, labeller=sex_labeller)+\n",
    "guides(lty=F)+\n",
    "xlab(\"Age\")+\n",
    "ylab(\"Probability of severity class\")+\n",
    "# theme_dios()\n",
    "theme_classic()\n",
    "\n",
    "fig"
   ]
  },
  {
   "cell_type": "code",
   "execution_count": 44,
   "metadata": {},
   "outputs": [],
   "source": [
    "%%R\n",
    "# ggsave(\"figure4b.jpg\", fig, dpi=300, units=\"in\", width=8, height=5)"
   ]
  },
  {
   "cell_type": "markdown",
   "metadata": {},
   "source": [
    "### Assumption of proportional odds"
   ]
  },
  {
   "cell_type": "code",
   "execution_count": 22,
   "metadata": {},
   "outputs": [
    {
     "data": {
      "image/png": "[encoded data removed]"
     },
     "metadata": {},
     "output_type": "display_data"
    }
   ],
   "source": [
    "%%R\n",
    "m4a <- glm(I(as.numeric(severity3)>=2) ~ age*sex, family=\"binomial\", data=sop)\n",
    "m4b <- glm(I(as.numeric(severity3)>=3) ~ age*sex, family=\"binomial\", data=sop)\n",
    "\n",
    "#Note that dwplot() doesn't seem to have the correct magnitude of the effects\n",
    "dwplot(list(m4a, m4b)) +\n",
    "geom_vline(xintercept=0, lty=2)+\n",
    "theme_classic()"
   ]
  },
  {
   "cell_type": "markdown",
   "metadata": {},
   "source": [
    "It appears that age has a very different effect on severity in men and women. However, the number of men in the sample is really quite low.\n",
    "\n",
    "### Women only models"
   ]
  },
  {
   "cell_type": "code",
   "execution_count": 23,
   "metadata": {},
   "outputs": [
    {
     "data": {
      "text/plain": [
       "    df      AIC\n",
       "mf0  2 79.51089\n",
       "mf1  3 81.49288\n",
       "Likelihood ratio tests of ordinal regression models\n",
       "\n",
       "Response: severity3\n",
       "  Model Resid. df Resid. Dev   Test    Df   LR stat.  Pr(Chi)\n",
       "1     1        43   75.51089                                 \n",
       "2   age        42   75.49288 1 vs 2     1 0.01801724 0.893222\n"
      ]
     },
     "metadata": {},
     "output_type": "display_data"
    }
   ],
   "source": [
    "%%R\n",
    "mf0 <- polr(severity3 ~ 1, data=filter(sop, sex==\"f\"), Hess=T)\n",
    "mf1 <- polr(severity3 ~ age, data=filter(sop, sex==\"f\"), Hess=T)\n",
    "\n",
    "print(AIC(mf0, mf1))\n",
    "Weights(AIC(mf0, mf1))\n",
    "anova(mf0,mf1, test=\"Chisq\")"
   ]
  },
  {
   "cell_type": "code",
   "execution_count": 24,
   "metadata": {},
   "outputs": [
    {
     "data": {
      "image/png": "[encoded data removed]"
     },
     "metadata": {},
     "output_type": "display_data"
    }
   ],
   "source": [
    "%%R -w 800\n",
    "\n",
    "#Generate data for predictions\n",
    "n <- 100\n",
    "nd <- data.frame(age = seq(min(sop$age), max(sop$age), length.out=n))\n",
    "\n",
    "nd <- cbind(nd, predict(mf0, type=\"probs\", newdata=nd))\n",
    "names(nd)[match(1:3, names(nd))] <- paste0(\"Severity\", 1:3)\n",
    "\n",
    "ggplot(nd, aes(x=age, y=Severity1))+\n",
    "geom_line(size=3)+\n",
    "geom_line(aes(y=Severity2), size=3, colour = \"navajowhite\")+\n",
    "geom_line(aes(y=Severity3), size=3, colour = \"orange\")+\n",
    "theme_dios()"
   ]
  },
  {
   "cell_type": "markdown",
   "metadata": {},
   "source": [
    "### A symptomatic vs diseased"
   ]
  },
  {
   "cell_type": "code",
   "execution_count": 25,
   "metadata": {},
   "outputs": [],
   "source": [
    "# %%R\n",
    "# d0 <- glm(diseased ~ 1, data=sop, family=\"binomial\")\n",
    "# d1 <- glm(diseased ~ age, data=sop, family=\"binomial\")\n",
    "# d2 <- glm(diseased ~ sex, data=sop, family=\"binomial\")\n",
    "# d3 <- glm(diseased ~ age + sex, data=sop, family=\"binomial\")\n",
    "# d4 <- glm(diseased ~ age * sex, data=sop, family=\"binomial\")\n",
    "\n",
    "# print(MuMIn::AICc(d0,d1,d2,d3,d4))\n",
    "# Weights(MuMIn::AICc(d0,d1,d2,d3,d4))"
   ]
  },
  {
   "cell_type": "code",
   "execution_count": 26,
   "metadata": {
    "scrolled": true
   },
   "outputs": [],
   "source": [
    "# %%R\n",
    "# print(summary(d4))\n",
    "# dwplot(d4) + \n",
    "# geom_vline(xintercept=0, lty=2)+\n",
    "# theme_dios()"
   ]
  },
  {
   "cell_type": "code",
   "execution_count": 27,
   "metadata": {},
   "outputs": [],
   "source": [
    "# %%R -w 800\n",
    "\n",
    "# #Generate data for predictions\n",
    "# n <- 10\n",
    "# age <- seq(min(sop$age), max(sop$age), length.out=n)\n",
    "# sex <- c(\"f\", \"m\")\n",
    "\n",
    "# nd <- expand.grid(age=age, sex=sex)\n",
    "# nd <- cbind(nd, predict(d4, newdata=nd, type=\"response\", se.fit=T))\n",
    "# names(nd)[3] <- \"pred\"\n",
    "\n",
    "# ggplot(nd, aes(x=age, y=pred, colour=sex, fill=sex))+\n",
    "# geom_line(size=3)+\n",
    "# geom_ribbon(aes(ymin=pred-(1.96*se.fit), ymax=pred+(1.96*se.fit)), alpha=0.3)+\n",
    "# theme_dios()"
   ]
  },
  {
   "cell_type": "code",
   "execution_count": 28,
   "metadata": {},
   "outputs": [],
   "source": [
    "# %%R -w 800\n",
    "\n",
    "# #Generate data for predictions\n",
    "# n <- 10\n",
    "# age <- seq(min(sop$age), max(sop$age), length.out=n)\n",
    "# sex <- c(\"f\", \"m\")\n",
    "\n",
    "# nd <- expand.grid(age=age, sex=sex)\n",
    "# nd <- cbind(nd, predict(d4, newdata=nd, type=\"link\", se.fit=T))\n",
    "# names(nd)[3] <- \"pred\"\n",
    "\n",
    "# ggplot(nd, aes(x=age, y=pred, colour=sex, fill=sex))+\n",
    "# geom_line(size=3)+\n",
    "# geom_ribbon(aes(ymin=pred-(1.96*se.fit), ymax=pred+(1.96*se.fit)), alpha=0.3)+\n",
    "# theme_dios()"
   ]
  },
  {
   "cell_type": "code",
   "execution_count": 29,
   "metadata": {
    "scrolled": false
   },
   "outputs": [],
   "source": [
    "# %%R\n",
    "# #model.matrix(terms(d4), nd)\n",
    "# mm <- model.matrix(delete.response(terms(d4)), nd)\n",
    "# # mm %*% fix\n",
    "# #Predictions\n",
    "# mm %*% coef(d4)\n",
    "# #prediction variance\n",
    "# predvar <- diag(mm %*% vcov(d4) %*% t(mm))\n",
    "# sqrt(predvar)"
   ]
  },
  {
   "cell_type": "code",
   "execution_count": 30,
   "metadata": {},
   "outputs": [],
   "source": [
    "# %%R\n",
    "# predict(d4,newdata=nd, se.fit=T)"
   ]
  },
  {
   "cell_type": "code",
   "execution_count": 31,
   "metadata": {},
   "outputs": [],
   "source": [
    "# %%R\n",
    "# v0 <- vglm(severity3 ~ 1, data=sop, family=propodds)\n",
    "# v1 <- vglm(severity3 ~ age, data=sop, family=propodds)\n",
    "# v2 <- vglm(severity3 ~ sex, data=sop, family=propodds)\n",
    "# v3 <- vglm(severity3 ~ age + sex, data=sop, family=propodds)\n",
    "# v4 <- vglm(severity3 ~ age * sex, data=sop, family=propodds)\n",
    "\n",
    "# print(sapply(c(v0,v1,v2,v3,v4), AICc))\n",
    "# Weights(sapply(c(v0,v1,v2,v3,v4), AICc))"
   ]
  },
  {
   "cell_type": "code",
   "execution_count": 32,
   "metadata": {
    "scrolled": false
   },
   "outputs": [],
   "source": [
    "# %%R\n",
    "# drop1(v4, test=\"LRT\")"
   ]
  },
  {
   "cell_type": "code",
   "execution_count": 33,
   "metadata": {},
   "outputs": [],
   "source": [
    "# %%R\n",
    "# summary(v4)"
   ]
  },
  {
   "cell_type": "code",
   "execution_count": 34,
   "metadata": {},
   "outputs": [],
   "source": [
    "# %%R\n",
    "# #Generate data for predictions\n",
    "# n <- 100\n",
    "# age <- seq(min(sop$age), max(sop$age), length.out=n)\n",
    "# sex <- c(\"f\", \"m\")\n",
    "\n",
    "# nd <- expand.grid(age=age, sex=sex)\n",
    "# nd <- cbind(nd, predict(v4, type=\"response\", newdata=nd))\n",
    "# names(nd)[match(1:3, names(nd))] <- paste0(\"Severity\", 1:3)"
   ]
  },
  {
   "cell_type": "code",
   "execution_count": 35,
   "metadata": {
    "scrolled": false
   },
   "outputs": [],
   "source": [
    "# %%R -w 800\n",
    "\n",
    "# sex_labeller <- function(variable, value){\n",
    "#     sex_labels <- list(\"f\"=\"Female\", \"m\"=\"Male\")\n",
    "#     return(sex_labels[value])\n",
    "# }\n",
    "\n",
    "# ggplot(nd, aes(x=age, y=Severity1, lty=sex))+\n",
    "# geom_line(size=3)+\n",
    "# geom_line(aes(y=Severity2), size=3, colour = \"navajowhite\")+\n",
    "# geom_line(aes(y=Severity3), size=3, colour = \"orange\")+\n",
    "# facet_wrap(.~sex, labeller=sex_labeller)+\n",
    "# guides(lty=F)+\n",
    "# xlab(\"Age\")+\n",
    "# ylab(\"Probability of severity class\")+\n",
    "# theme_dios()"
   ]
  },
  {
   "cell_type": "code",
   "execution_count": 36,
   "metadata": {},
   "outputs": [],
   "source": [
    "# %%R\n",
    "# #Generate data for predicting cumulative probability\n",
    "# n <- 100\n",
    "# age <- seq(min(sop$age), max(sop$age), length.out=n)\n",
    "# sex <- c(\"f\", \"m\")\n",
    "\n",
    "# nd <- expand.grid(age=age, sex=sex)\n",
    "# nd <- cbind(nd, predict(v4, type=\"link\", newdata=nd))\n",
    "# se <- predict(v4, type=\"link\", newdata=nd, se.fit=T)$se.fit\n",
    "\n",
    "# #Cumulative log odds ratio of severity x or greater\n",
    "# names(nd)[match(c('logitlink(P[Y>=2])', 'logitlink(P[Y>=3])'), names(nd))] <- paste0(\"CLORseverity\", 2:3)\n",
    "\n",
    "# #Calculate the cumulative probability of being severity x or higher\n",
    "# nd$Cseverity3 <- plogis(nd$CLORseverity3)\n",
    "# nd$Cseverity2 <- plogis(nd$CLORseverity2)\n",
    "\n",
    "# head(nd)"
   ]
  },
  {
   "cell_type": "code",
   "execution_count": 37,
   "metadata": {
    "scrolled": true
   },
   "outputs": [],
   "source": [
    "# %%R\n",
    "# #Calculate upper and lower 95% confidence intervals\n",
    "# # for Cumulative log odds ratios\n",
    "# nd$CLORseverity3U <- nd$CLORseverity3 + (1.96*se[,'logitlink(P[Y>=3])'])\n",
    "# nd$CLORseverity3L <- nd$CLORseverity3 - (1.96*se[,'logitlink(P[Y>=3])'])\n",
    "\n",
    "# nd$CLORseverity2U <- nd$CLORseverity2 + (1.96*se[,'logitlink(P[Y>=2])'])\n",
    "# nd$CLORseverity2L <- nd$CLORseverity2 - (1.96*se[,'logitlink(P[Y>=2])'])\n",
    "\n",
    "\n",
    "# #Convert from cumulative log odds ratios to cumulative probabilities\n",
    "# nd$Cseverity3U <- plogis(nd$CLORseverity3U)\n",
    "# nd$Cseverity3L <- plogis(nd$CLORseverity3L)\n",
    "\n",
    "# nd$Cseverity2U <- plogis(nd$CLORseverity2U)\n",
    "# nd$Cseverity2L <- plogis(nd$CLORseverity2L)"
   ]
  },
  {
   "cell_type": "code",
   "execution_count": 38,
   "metadata": {
    "scrolled": false
   },
   "outputs": [],
   "source": [
    "# %%R -w 800\n",
    "\n",
    "# sex_labeller <- function(variable, value){\n",
    "#     sex_labels <- list(\"f\"=\"Female\", \"m\"=\"Male\")\n",
    "#     return(sex_labels[value])\n",
    "# }\n",
    "\n",
    "# ggplot(nd, aes(x=age, y=1, lty=sex))+\n",
    "# geom_line(size=3)+\n",
    "# geom_line(aes(y=Cseverity2), size=3, colour = \"navajowhite\")+\n",
    "# geom_line(aes(y=Cseverity3), size=3, colour = \"orange\")+\n",
    "# geom_ribbon(aes(ymin=Cseverity2L, ymax=Cseverity2U), alpha=0.3, fill=\"navajowhite\")+\n",
    "# geom_ribbon(aes(ymin=Cseverity3L, ymax=Cseverity3U), alpha=0.3, fill=\"orange\")+\n",
    "# facet_wrap(.~sex, labeller=sex_labeller)+\n",
    "# guides(lty=F)+\n",
    "# xlab(\"Age\")+\n",
    "# ylab(\"Cumulative probability of severity class\")+\n",
    "# theme_dios()"
   ]
  },
  {
   "cell_type": "code",
   "execution_count": 39,
   "metadata": {},
   "outputs": [],
   "source": [
    "# %%R\n",
    "# #Convert to probablity\n",
    "# # not sure this is allowed\n",
    "# nd$severity3 <- nd$Cseverity3\n",
    "# nd$severity2 <- nd$Cseverity2 - nd$Cseverity3\n",
    "# nd$severity1 <- 1 - nd$Cseverity2\n",
    "\n",
    "# nd$severity3L <- nd$Cseverity3L\n",
    "# nd$severity3U <- nd$Cseverity3U\n",
    "\n",
    "# nd$severity2L <- nd$Cseverity2L\n",
    "# nd$severity2U <- nd$Cseverity2U\n"
   ]
  },
  {
   "cell_type": "code",
   "execution_count": 40,
   "metadata": {},
   "outputs": [],
   "source": [
    "# %%R -w 800\n",
    "# ggplot(nd, aes(x=age, y=severity1, lty=sex))+\n",
    "# geom_line(size=3)+\n",
    "# geom_line(aes(y=severity2), size=3, colour = \"navajowhite\")+\n",
    "# geom_line(aes(y=severity3), size=3, colour = \"orange\")+\n",
    "# # geom_ribbon(aes(ymin=Cseverity2L, ymax=Cseverity2U), alpha=0.3, fill=\"navajowhite\")+\n",
    "# geom_ribbon(aes(ymin=severity3L, ymax=severity3U), alpha=0.3, fill=\"orange\")+\n",
    "# facet_wrap(.~sex, labeller=sex_labeller)+\n",
    "# guides(lty=F)+\n",
    "# xlab(\"Age\")+\n",
    "# ylab(\"Cumulative probability of severity class\")+\n",
    "# theme_dios()"
   ]
  },
  {
   "cell_type": "code",
   "execution_count": 41,
   "metadata": {
    "scrolled": true
   },
   "outputs": [],
   "source": [
    "# %%R -w 800\n",
    "\n",
    "# sex_labeller <- function(variable, value){\n",
    "#     sex_labels <- list(\"f\"=\"Female\", \"m\"=\"Male\")\n",
    "#     return(sex_labels[value])\n",
    "# }\n",
    "\n",
    "# ggplot(nd, aes(x=age, y=Cseverity1, lty=sex))+\n",
    "# geom_line(size=3)+\n",
    "# geom_line(aes(y=Cseverity2), size=3, colour = \"navajowhite\")+\n",
    "# geom_line(aes(y=Cseverity3), size=3, colour = \"orange\")+\n",
    "# facet_wrap(.~sex, labeller=sex_labeller)+\n",
    "# guides(lty=F)+\n",
    "# xlab(\"Age\")+\n",
    "# ylab(\"Cumulative probability of severity class\")+\n",
    "# theme_dios()"
   ]
  },
  {
   "cell_type": "markdown",
   "metadata": {},
   "source": [
    "## Add ethnicity"
   ]
  },
  {
   "cell_type": "code",
   "execution_count": 14,
   "metadata": {},
   "outputs": [
    {
     "name": "stdout",
     "output_type": "stream",
     "text": [
      "\n",
      "Error in filter(sop, ethnicity %in% c(1, 3)) : object 'sop' not found\n"
     ]
    },
    {
     "name": "stderr",
     "output_type": "stream",
     "text": [
      "/home/david/miniconda3/lib/python3.7/site-packages/rpy2/rinterface/__init__.py:146: RRuntimeWarning: Error in filter(sop, ethnicity %in% c(1, 3)) : object 'sop' not found\n",
      "\n",
      "  warnings.warn(x, RRuntimeWarning)\n"
     ]
    }
   ],
   "source": [
    "%%R\n",
    "e4 <- polr(severity3 ~ age * sex, data=filter(sop, ethnicity%in%c(1,3)), Hess=T)\n",
    "e5 <- polr(severity3 ~ age * sex + ethnicity, data=filter(sop, ethnicity%in%c(1,3)), Hess=T)\n",
    "\n",
    "aicc <- function(m){\n",
    "    k <- m$edf\n",
    "    AIC(m) + ((2*k**2+2*k)/(m$n-k-1))\n",
    "}\n",
    "\n",
    "# print(AIC(e4, e5))\n",
    "print(c(aicc(e4), aicc(e5)))\n",
    "Weights(c(aicc(e4), aicc(e5)))"
   ]
  },
  {
   "cell_type": "code",
   "execution_count": 43,
   "metadata": {},
   "outputs": [
    {
     "data": {
      "text/plain": [
       "Call:\n",
       "polr(formula = severity3 ~ age * sex + ethnicity, data = filter(sop, \n",
       "    ethnicity %in% c(1, 3)), Hess = T)\n",
       "\n",
       "Coefficients:\n",
       "               Value Std. Error t value\n",
       "age        -0.007391    0.02845 -0.2598\n",
       "sexm       -7.003354    3.02546 -2.3148\n",
       "ethnicity3 -1.026787    0.72410 -1.4180\n",
       "age:sexm    0.199222    0.06975  2.8561\n",
       "\n",
       "Intercepts:\n",
       "    Value   Std. Error t value\n",
       "1|2 -1.1747  1.3431    -0.8746\n",
       "2|3  2.0588  1.3866     1.4848\n",
       "\n",
       "Residual Deviance: 92.91782 \n",
       "AIC: 104.9178 \n"
      ]
     },
     "metadata": {},
     "output_type": "display_data"
    }
   ],
   "source": [
    "%%R\n",
    "summary(e5)"
   ]
  },
  {
   "cell_type": "code",
   "execution_count": 44,
   "metadata": {},
   "outputs": [
    {
     "data": {
      "text/plain": [
       "Call:\n",
       "polr(formula = severity3 ~ age * sex, data = sop, Hess = T)\n",
       "\n",
       "Coefficients:\n",
       "             Value Std. Error t value\n",
       "age      -0.003358    0.02680 -0.1253\n",
       "sexm     -4.529895    2.56150 -1.7685\n",
       "age:sexm  0.128700    0.05586  2.3039\n",
       "\n",
       "Intercepts:\n",
       "    Value   Std. Error t value\n",
       "1|2 -0.8542  1.2513    -0.6827\n",
       "2|3  2.1148  1.2956     1.6323\n",
       "\n",
       "Residual Deviance: 108.4226 \n",
       "AIC: 118.4226 \n"
      ]
     },
     "metadata": {},
     "output_type": "display_data"
    }
   ],
   "source": [
    "%%R -w 800 -h 400\n",
    "summary(m4)"
   ]
  },
  {
   "cell_type": "code",
   "execution_count": 45,
   "metadata": {
    "scrolled": true
   },
   "outputs": [
    {
     "data": {
      "image/png": "[encoded data removed]"
     },
     "metadata": {},
     "output_type": "display_data"
    }
   ],
   "source": [
    "%%R\n",
    "dwplot(tidy(m4))"
   ]
  },
  {
   "cell_type": "code",
   "execution_count": 46,
   "metadata": {},
   "outputs": [
    {
     "data": {
      "image/png": "[encoded data removed]"
     },
     "metadata": {},
     "output_type": "display_data"
    }
   ],
   "source": [
    "%%R\n",
    "dwplot(tidy(e5))"
   ]
  },
  {
   "cell_type": "markdown",
   "metadata": {},
   "source": [
    "## Effects in seronegative cases\n",
    "We should see no such sex\\*age affects in the seronegative staff."
   ]
  },
  {
   "cell_type": "code",
   "execution_count": 24,
   "metadata": {},
   "outputs": [
    {
     "data": {
      "text/plain": [
       "   df      AIC\n",
       "m0  2 630.0713\n",
       "m1  3 630.6998\n",
       "m2  3 631.3276\n",
       "m3  4 631.8027\n",
       "m4  5 633.5605\n",
       "[1] 630.1025 630.7623 631.3901 631.9072 633.7176\n",
       " model weights \n",
       "[1] 0.355 0.256 0.187 0.144 0.058\n"
      ]
     },
     "metadata": {},
     "output_type": "display_data"
    }
   ],
   "source": [
    "%%R\n",
    "m0 <- polr(severity3 ~ 1, data=son, Hess=T)\n",
    "m1 <- polr(severity3 ~ age, data=son, Hess=T)\n",
    "m2 <- polr(severity3 ~ sex, data=son, Hess=T)\n",
    "m3 <- polr(severity3 ~ age + sex, data=son, Hess=T)\n",
    "m4 <- polr(severity3 ~ age * sex, data=son, Hess=T)\n",
    "\n",
    "aicc <- function(m){\n",
    "    k <- m$edf\n",
    "    AIC(m) + ((2*k**2+2*k)/(m$n-k-1))\n",
    "}\n",
    "\n",
    "print(AIC(m0, m1, m2, m3, m4))\n",
    "print(c(aicc(m0), aicc(m1), aicc(m2), aicc(m3), aicc(m4)))\n",
    "Weights(c(aicc(m0), aicc(m1), aicc(m2), aicc(m3), aicc(m4)))"
   ]
  },
  {
   "cell_type": "code",
   "execution_count": null,
   "metadata": {},
   "outputs": [],
   "source": []
  },
  {
   "cell_type": "markdown",
   "metadata": {},
   "source": [
    "# To do\n"
   ]
  },
  {
   "cell_type": "code",
   "execution_count": 31,
   "metadata": {},
   "outputs": [
    {
     "data": {
      "text/plain": [
       "\n",
       "To cite pbkrtest in publications use:\n",
       "\n",
       "  Ulrich Halekoh, Søren Højsgaard (2014). A Kenward-Roger Approximation\n",
       "  and Parametric Bootstrap Methods for Tests in Linear Mixed Models -\n",
       "  The R Package pbkrtest. Journal of Statistical Software, 59(9), 1-30.\n",
       "  URL http://www.jstatsoft.org/v59/i09/.\n",
       "\n",
       "A BibTeX entry for LaTeX users is\n",
       "\n",
       "  @Article{,\n",
       "    title = {A Kenward-Roger Approximation and Parametric Bootstrap Methods for Tests in Linear Mixed Models -- The {R} Package {pbkrtest}},\n",
       "    author = {Ulrich Halekoh and S{\\o}ren H{\\o}jsgaard},\n",
       "    journal = {Journal of Statistical Software},\n",
       "    year = {2014},\n",
       "    volume = {59},\n",
       "    number = {9},\n",
       "    pages = {1--30},\n",
       "    url = {http://www.jstatsoft.org/v59/i09/},\n",
       "  }\n",
       "\n"
      ]
     },
     "metadata": {},
     "output_type": "display_data"
    }
   ],
   "source": [
    "%%R\n",
    "citation(\"MASS\")\n",
    "citation(\"effects\")\n",
    "citation(\"pbkrtest\")"
   ]
  },
  {
   "cell_type": "markdown",
   "metadata": {},
   "source": [
    "Benjamini, Yoav, and Yosef Hochberg. \"Controlling the false discovery rate: a practical and powerful approach to multiple testing.\" Journal of the Royal statistical society: series B (Methodological) 57, no. 1 (1995): 289-300."
   ]
  }
 ],
 "metadata": {
  "kernelspec": {
   "display_name": "Python 3",
   "language": "python",
   "name": "python3"
  },
  "language_info": {
   "codemirror_mode": {
    "name": "ipython",
    "version": 3
   },
   "file_extension": ".py",
   "mimetype": "text/x-python",
   "name": "python",
   "nbconvert_exporter": "python",
   "pygments_lexer": "ipython3",
   "version": "3.7.4"
  }
 },
 "nbformat": 4,
 "nbformat_minor": 4
}
