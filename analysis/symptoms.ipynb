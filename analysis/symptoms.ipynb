{
 "cells": [
  {
   "cell_type": "markdown",
   "metadata": {},
   "source": [
    "# Symptoms\n",
    "Anosmia and dyspnoea are the major markers of COVID19 verses other diseases. Helen is interested in how these and other symptoms occur with N, S, and RBD responses."
   ]
  },
  {
   "cell_type": "markdown",
   "metadata": {},
   "source": [
    "From Helen\n",
    "> I have updated the details of the clinical history. Anosmia and dyspnoea are reported to be discriminating for those with confirmed COVID disease. Keen to explore whether there are discriminatory symptoms for serum positive and also for whether likely to be N only or N and S.\n",
    "- \\% with each of the different symptoms (and no symptoms ie score 1 on COVID symptoms) in staff who are Ab pos / neg and PcR pos and negative/\n",
    "- whether there is particular symptoms clustering\n",
    "- Which symptoms seem to be discriminating for those staff who are swab positive (there were only 12 swab positive at time of illness – most staff with symptoms were not swabbed)\n",
    "- Which symptoms seem to be discriminating for those staff who are antibody positive\n",
    "- Linking with the luminex data – is seems that milder symptoms may be associated with only N positive: would it be possible to look at whether there is a difference in symptoms (and demographic, month of reported possible covid illness, duration of symptoms and whether they were N only or N and S positive?"
   ]
  },
  {
   "cell_type": "code",
   "execution_count": 11,
   "metadata": {},
   "outputs": [
    {
     "name": "stdout",
     "output_type": "stream",
     "text": [
      "The rpy2.ipython extension is already loaded. To reload it, use:\n",
      "  %reload_ext rpy2.ipython\n"
     ]
    }
   ],
   "source": [
    "import os\n",
    "import datetime\n",
    "\n",
    "import numpy as np\n",
    "import pandas as pd\n",
    "import matplotlib.pyplot as plt\n",
    "import seaborn\n",
    "\n",
    "%load_ext rpy2.ipython\n",
    "from rpy2.robjects import r"
   ]
  },
  {
   "cell_type": "code",
   "execution_count": 12,
   "metadata": {},
   "outputs": [
    {
     "data": {
      "text/plain": [
       "[[1]]\n",
       "[1] TRUE\n",
       "\n",
       "[[2]]\n",
       "[1] TRUE\n",
       "\n",
       "[[3]]\n",
       "[1] FALSE\n",
       "\n",
       "[[4]]\n",
       "[1] TRUE\n",
       "\n",
       "[[5]]\n",
       "[1] TRUE\n",
       "\n",
       "[[6]]\n",
       "[1] FALSE\n",
       "\n",
       "[[7]]\n",
       "[1] TRUE\n",
       "\n",
       "[[8]]\n",
       "[1] TRUE\n",
       "\n",
       "[[9]]\n",
       "[1] TRUE\n",
       "\n"
      ]
     },
     "metadata": {},
     "output_type": "display_data"
    }
   ],
   "source": [
    "%%R\n",
    "packages <- c(\"ggplot2\", \"dplyr\", \"diosR\", \"plot.matrix\", \"broom\", \"dotwhisker\", \"MASS\", \"MuMIn\", \"pbkrtest\")\n",
    "lapply(packages, require, character.only=T)"
   ]
  },
  {
   "cell_type": "code",
   "execution_count": 13,
   "metadata": {},
   "outputs": [],
   "source": [
    "os.chdir(\"/home/david/linux_work/coronavirus_2020/papworth/staff_analysis/data\")"
   ]
  },
  {
   "cell_type": "code",
   "execution_count": 14,
   "metadata": {},
   "outputs": [
    {
     "data": {
      "text/plain": [
       "R version 3.6.1 (2019-07-05)\n",
       "Platform: x86_64-conda_cos6-linux-gnu (64-bit)\n",
       "Running under: Ubuntu 18.04.5 LTS\n",
       "\n",
       "Matrix products: default\n",
       "BLAS/LAPACK: /home/david/miniconda3/envs/HICC_datapipe/lib/libmkl_rt.so\n",
       "\n",
       "locale:\n",
       "[1] C.UTF-8\n",
       "\n",
       "attached base packages:\n",
       "[1] tools     stats     graphics  grDevices utils     datasets  methods  \n",
       "[8] base     \n",
       "\n",
       "other attached packages:\n",
       "[1] pbkrtest_0.5-0.1  lme4_1.1-21       Matrix_1.2-17     MuMIn_1.43.17    \n",
       "[5] MASS_7.3-51.3     broom_0.5.2       plot.matrix_1.5.2 dplyr_1.0.2      \n",
       "[9] ggplot2_3.1.1    \n",
       "\n",
       "loaded via a namespace (and not attached):\n",
       " [1] Rcpp_1.0.5       pillar_1.4.7     compiler_3.6.1   nloptr_1.2.2.2  \n",
       " [5] plyr_1.8.4       digest_0.6.18    boot_1.3-20      lifecycle_0.2.0 \n",
       " [9] tibble_3.0.4     nlme_3.1-139     gtable_0.3.0     lattice_0.20-38 \n",
       "[13] pkgconfig_2.0.2  rlang_0.4.10     parallel_3.6.1   withr_2.4.1     \n",
       "[17] generics_0.0.2   vctrs_0.3.6      stats4_3.6.1     grid_3.6.1      \n",
       "[21] tidyselect_1.1.0 glue_1.4.2       R6_2.4.0         minqa_1.2.4     \n",
       "[25] purrr_0.3.4      tidyr_1.1.2      magrittr_1.5     scales_1.0.0    \n",
       "[29] backports_1.1.4  ellipsis_0.3.1   splines_3.6.1    colorspace_1.4-1\n",
       "[33] labeling_0.3     lazyeval_0.2.2   munsell_0.5.0    crayon_1.3.4    \n"
      ]
     },
     "metadata": {},
     "output_type": "display_data"
    }
   ],
   "source": [
    "%%R\n",
    "sessionInfo()"
   ]
  },
  {
   "cell_type": "markdown",
   "metadata": {},
   "source": [
    "## Data Preprocessing\n"
   ]
  },
  {
   "cell_type": "code",
   "execution_count": 14,
   "metadata": {},
   "outputs": [
    {
     "data": {
      "text/plain": [
       " [1] \"id\"               \"laminar\"          \"age\"              \"sex\"             \n",
       " [5] \"severity\"         \"ethnicity\"        \"jobtype\"          \"location\"        \n",
       " [9] \"note\"             \"BOOKED.ON.EPIC\"   \"DATE.TESTED\"      \"BATCH\"           \n",
       "[13] \"RESULTED.ON.EPIC\" \"bsa\"              \"n\"                \"s\"               \n",
       "[17] \"rbd\"              \"lps\"              \"sero\"             \"Comment\"         \n",
       "[21] \"checked\"          \"nep\"              \"bloodspot\"        \"swabtime\"        \n",
       "[25] \"anosmia\"          \"fatigue\"          \"myalgia\"          \"gi\"              \n",
       "[29] \"pharyngitis\"      \"cough\"            \"dyspnoea\"         \"fever\"           \n",
       "[33] \"headache\"         \"utri\"             \"other\"            \"severity_symp\"   \n",
       "[37] \"duration\"         \"month\"            \"note_symp\"        \"sero_svm\"        \n"
      ]
     },
     "metadata": {},
     "output_type": "display_data"
    }
   ],
   "source": [
    "%%R\n",
    "\n",
    "staf <- read.csv(\"staff_svm_demographic_symptoms_antibodies.csv\")\n",
    "#Remove sero_svm NAs\n",
    "staf <- filter(staf, !is.na(sero_svm))\n",
    "# Set sero_svm to TRUE or FALSE\n",
    "staf$sero_svm <- as.logical(staf$sero_svm)\n",
    "names(staf)"
   ]
  },
  {
   "cell_type": "code",
   "execution_count": 15,
   "metadata": {},
   "outputs": [],
   "source": [
    "%%R\n",
    "for(symptom in c(\"anosmia\",\"fatigue\",\"myalgia\",\"gi\",\"pharyngitis\",\"cough\",\"dyspnoea\",\"fever\",\"headache\",\"utri\")){\n",
    "    staf[,symptom] <- staf[,symptom] == 1\n",
    "}"
   ]
  },
  {
   "cell_type": "markdown",
   "metadata": {},
   "source": [
    "# Data Exploration"
   ]
  },
  {
   "cell_type": "code",
   "execution_count": 16,
   "metadata": {},
   "outputs": [],
   "source": [
    "%%R\n",
    "\n",
    "#Proportion With Symptom\n",
    "prop_w_symp <- function(col){\n",
    "    #With Symptom\n",
    "    ws <- sum(col==T, na.rm=T)\n",
    "    wo <- sum(col==F, na.rm=T)\n",
    "    prop <- ws/(ws+wo)\n",
    "    return(prop)\n",
    "}\n",
    "\n",
    "#sero_positive\n",
    "p <- filter(staf, sero_svm==1)[,c(\"anosmia\",\"fatigue\",\"myalgia\",\"gi\",\"pharyngitis\",\"cough\",\"dyspnoea\",\"fever\",\"headache\",\"utri\")]\n",
    "pp <- apply(p, 2, prop_w_symp)\n",
    "\n",
    "n <- filter(staf, sero_svm==0)[,c(\"anosmia\",\"fatigue\",\"myalgia\",\"gi\",\"pharyngitis\",\"cough\",\"dyspnoea\",\"fever\",\"headache\",\"utri\")]\n",
    "np <- apply(n, 2, prop_w_symp)"
   ]
  },
  {
   "cell_type": "code",
   "execution_count": 17,
   "metadata": {},
   "outputs": [
    {
     "data": {
      "text/plain": [
       "`summarise()` ungrouping output (override with `.groups` argument)\n"
      ]
     },
     "metadata": {},
     "output_type": "display_data"
    },
    {
     "data": {
      "image/png": "[encoded data removed]"
     },
     "metadata": {},
     "output_type": "display_data"
    }
   ],
   "source": [
    "%%R\n",
    "#Symptom Proportions by serostatus\n",
    "symprop <- data.frame(\n",
    "    prop = c(pp,np),\n",
    "    symptom = c(names(pp), names(np)),\n",
    "    sero = rep(c('positive', 'negative'), c(length(pp), length(np)))\n",
    ")\n",
    "\n",
    "symprop$n <- c(\n",
    "    apply(p, 2, function(col){sum(!is.na(col))}),\n",
    "    apply(n, 2, function(col){sum(!is.na(col))})\n",
    ")\n",
    "\n",
    "\n",
    "levels(symprop$symptom)[levels(symprop$symptom) == \"utri\"] <- \"URTI\"\n",
    "levels(symprop$symptom)[levels(symprop$symptom) == \"gi\"] <- \"GI\"\n",
    "\n",
    "\n",
    "#Difference in proportions\n",
    "propdif <- summarise(group_by(symprop, symptom), dif=prop[1]-prop[2])\n",
    "#use x to order the symptom bars\n",
    "x <-propdif$symptom[order(propdif$dif)]\n",
    "\n",
    "ggplot(symprop, aes(x=symptom, colour=sero, fill=n, y=prop)) + \n",
    "geom_bar(stat=\"identity\", position=\"dodge\", width=.8)+\n",
    "scale_colour_manual(values=c(\"darkturquoise\", \"orange\"), name=\"Serostatus\")+\n",
    "scale_fill_gradient(low=\"white\", high=\"black\", name=\"Sample size\")+\n",
    "scale_x_discrete(limits=x)+\n",
    "ylim(c(0,1))+\n",
    "xlab(\"Symptom\")+\n",
    "ylab(\"Proportion with symptom\")+\n",
    "coord_flip()+\n",
    "theme_classic()"
   ]
  },
  {
   "cell_type": "code",
   "execution_count": 36,
   "metadata": {},
   "outputs": [
    {
     "data": {
      "image/png": "[encoded data removed]"
     },
     "metadata": {},
     "output_type": "display_data"
    }
   ],
   "source": [
    "%%R\n",
    "fig <- \n",
    "ggplot(symprop, aes(x=symptom, fill=sero, y=prop)) + \n",
    "geom_bar(stat=\"identity\", position=\"dodge\", width=.8)+\n",
    "scale_fill_manual(values=c(\"darkturquoise\", \"orange\"), name=\"Serostatus\")+\n",
    "scale_x_discrete(limits=rev(x))+\n",
    "geom_segment(aes(x=.75, xend=1.25, y=.5, yend=.5))+\n",
    "annotate(geom=\"text\",x=1, y=.51, label=\"***\", size=10)+\n",
    "geom_segment(aes(x=1.75, xend=2.25, y=.6, yend=.6))+\n",
    "annotate(geom=\"text\",x=2, y=.65, label=\"*\", size=10)+\n",
    "ylim(c(0,1))+\n",
    "xlab(\"Symptom\")+\n",
    "ylab(\"Proportion of serostatus with symptom\")+\n",
    "# coord_flip()+\n",
    "theme_classic()+\n",
    "theme(text=element_text(size=15), axis.text.x=element_text(angle=90))\n",
    "\n",
    "fig"
   ]
  },
  {
   "cell_type": "code",
   "execution_count": 41,
   "metadata": {},
   "outputs": [],
   "source": [
    "%%R\n",
    "ggsave(\"figure3.jpg\", fig, dpi=300)\n",
    "write.csv(symprop, \"symptom proportions.csv\", row.names=F)"
   ]
  },
  {
   "cell_type": "code",
   "execution_count": 53,
   "metadata": {},
   "outputs": [
    {
     "data": {
      "text/plain": [
       "       symptom count     sero\n",
       "1      anosmia    26 positive\n",
       "2      fatigue    20 positive\n",
       "3      myalgia    19 positive\n",
       "4           GI     6 positive\n",
       "5  pharyngitis     7 positive\n",
       "6        cough    24 positive\n",
       "7     dyspnoea    12 positive\n",
       "8        fever    31 positive\n",
       "9     headache    13 positive\n",
       "10        URTI     1 positive\n",
       "11     anosmia    11 negative\n",
       "12     fatigue    56 negative\n",
       "13     myalgia    46 negative\n",
       "14          GI    12 negative\n",
       "15 pharyngitis    36 negative\n",
       "16       cough   100 negative\n",
       "17    dyspnoea    26 negative\n",
       "18       fever    68 negative\n",
       "19    headache    32 negative\n",
       "20        URTI     9 negative\n"
      ]
     },
     "metadata": {},
     "output_type": "display_data"
    }
   ],
   "source": [
    "%%R\n",
    "# Positive Count\n",
    "pc <- apply(p, 2, sum, na.rm=T)\n",
    "# Negative Count\n",
    "nc <- apply(n, 2, sum, na.rm=T)\n",
    "\n",
    "#SYMPtom CouNT\n",
    "sympcnt <- data.frame(\n",
    "    symptom = c(names(pc), names(nc)),\n",
    "    count = c(pc,nc),\n",
    "    sero = rep(c(\"positive\", \"negative\"), c(length(pc), length(nc)))\n",
    ")\n",
    "levels(sympcnt$symptom)[levels(sympcnt$symptom) == \"utri\"] <- \"URTI\"\n",
    "levels(sympcnt$symptom)[levels(sympcnt$symptom) == \"gi\"] <- \"GI\"\n",
    "\n",
    "sympcnt"
   ]
  },
  {
   "cell_type": "code",
   "execution_count": 79,
   "metadata": {},
   "outputs": [
    {
     "data": {
      "image/png": "[encoded data removed]"
     },
     "metadata": {},
     "output_type": "display_data"
    }
   ],
   "source": [
    "%%R\n",
    "ggplot(sympcnt, aes(x=symptom, y=count, fill=sero))+\n",
    "geom_bar(stat=\"identity\")+\n",
    "scale_fill_manual(values=c(\"darkturquoise\", \"orange\"), name=\"Serostatus\")+\n",
    "scale_x_discrete(limits=x)+\n",
    "coord_flip()+\n",
    "theme_classic()"
   ]
  },
  {
   "cell_type": "code",
   "execution_count": 78,
   "metadata": {},
   "outputs": [
    {
     "data": {
      "image/png": "[encoded data removed]"
     },
     "metadata": {},
     "output_type": "display_data"
    }
   ],
   "source": [
    "%%R\n",
    "ggplot(sympcnt, aes(x=symptom, y=count, fill=sero))+\n",
    "geom_bar(stat=\"identity\", position=\"dodge\", width=0.8)+\n",
    "geom_hline(yintercept=max(filter(symprop, sero==\"positive\")$n), lty=2, colour=\"orange\")+\n",
    "geom_hline(yintercept=max(filter(symprop, sero==\"negative\")$n), lty=2, colour=\"darkturquoise\")+\n",
    "scale_fill_manual(values=c(\"darkturquoise\", \"orange\"), name=\"Serostatus\")+\n",
    "scale_x_discrete(limits=x)+\n",
    "coord_flip()+\n",
    "theme_classic()"
   ]
  },
  {
   "cell_type": "code",
   "execution_count": 68,
   "metadata": {},
   "outputs": [
    {
     "data": {
      "text/plain": [
       "[1] 423\n"
      ]
     },
     "metadata": {},
     "output_type": "display_data"
    }
   ],
   "source": [
    "%%R\n",
    "nrow(p)\n",
    "nrow(n)"
   ]
  },
  {
   "cell_type": "code",
   "execution_count": 34,
   "metadata": {},
   "outputs": [
    {
     "data": {
      "image/png": "[encoded data removed]"
     },
     "metadata": {},
     "output_type": "display_data"
    }
   ],
   "source": [
    "%%R\n",
    "ggplot(symprop, aes(x=symptom, y=n, fill=sero))+\n",
    "geom_bar(stat=\"identity\")"
   ]
  },
  {
   "cell_type": "code",
   "execution_count": 12,
   "metadata": {},
   "outputs": [
    {
     "data": {
      "text/plain": [
       " [1] cough       utri        pharyngitis fatigue     gi          headache   \n",
       " [7] dyspnoea    myalgia     fever       anosmia    \n",
       "10 Levels: anosmia cough dyspnoea fatigue fever gi headache ... utri\n"
      ]
     },
     "metadata": {},
     "output_type": "display_data"
    }
   ],
   "source": [
    "%%R\n",
    "x"
   ]
  },
  {
   "cell_type": "code",
   "execution_count": 10,
   "metadata": {},
   "outputs": [
    {
     "data": {
      "image/png": "[encoded data removed]"
     },
     "metadata": {},
     "output_type": "display_data"
    }
   ],
   "source": [
    "%%R\n",
    "ggplot(symprop, aes(y=symptom, colour=sero, fill=n, x=n)) + \n",
    "geom_bar(stat=\"identity\", position=\"dodge\", width=.8)+\n",
    "scale_colour_manual(values=c(\"darkturquoise\", \"orange\"), name=\"Serostatus\")+\n",
    "scale_fill_gradient(low=\"white\", high=\"black\", name=\"Sample size\")+\n",
    "scale_y_discrete(limits=x)+\n",
    "ylab(\"Symptom\")+\n",
    "xlab(\"Sample size\")+\n",
    "theme_dios()"
   ]
  },
  {
   "cell_type": "markdown",
   "metadata": {},
   "source": [
    "## Fit models\n",
    "We would like to know which symptoms help to distinguish between seropositive and seronegative cases. However to test all of the symptoms would greatly inflate the rate of false positives. Therefore we will use the Benjamini-Hochbergor p-value correction and only test the most promising cases and stop when we get a non-significant result."
   ]
  },
  {
   "cell_type": "code",
   "execution_count": 11,
   "metadata": {},
   "outputs": [
    {
     "data": {
      "text/plain": [
       "\n",
       "Call:\n",
       "glm(formula = sero_svm ~ anosmia, family = \"binomial\", data = filter(staf, \n",
       "    !is.na(anosmia)))\n",
       "\n",
       "Deviance Residuals: \n",
       "    Min       1Q   Median       3Q      Max  \n",
       "-1.5576  -0.5755  -0.5755  -0.5755   1.9389  \n",
       "\n",
       "Coefficients:\n",
       "            Estimate Std. Error z value Pr(>|z|)    \n",
       "(Intercept)  -1.7141     0.2017  -8.497  < 2e-16 ***\n",
       "anosmiaTRUE   2.5743     0.4124   6.242 4.31e-10 ***\n",
       "---\n",
       "Signif. codes:  0 ‘***’ 0.001 ‘**’ 0.01 ‘*’ 0.05 ‘.’ 0.1 ‘ ’ 1\n",
       "\n",
       "(Dispersion parameter for binomial family taken to be 1)\n",
       "\n",
       "    Null deviance: 251.38  on 226  degrees of freedom\n",
       "Residual deviance: 207.39  on 225  degrees of freedom\n",
       "AIC: 211.39\n",
       "\n",
       "Number of Fisher Scoring iterations: 4\n",
       "\n"
      ]
     },
     "metadata": {},
     "output_type": "display_data"
    }
   ],
   "source": [
    "%%R\n",
    "anos0 <- glm(sero_svm ~ 1, family=\"binomial\", data=filter(staf, !is.na(anosmia)))\n",
    "anos1 <- glm(sero_svm ~ anosmia, family=\"binomial\", data=filter(staf, !is.na(anosmia)))\n",
    "summary(anos1)"
   ]
  },
  {
   "cell_type": "code",
   "execution_count": 12,
   "metadata": {},
   "outputs": [
    {
     "data": {
      "text/plain": [
       "Analysis of Deviance Table\n",
       "\n",
       "Model 1: sero_svm ~ 1\n",
       "Model 2: sero_svm ~ anosmia\n",
       "  Resid. Df Resid. Dev Df Deviance  Pr(>Chi)    \n",
       "1       226     251.38                          \n",
       "2       225     207.39  1   43.996 3.291e-11 ***\n",
       "---\n",
       "Signif. codes:  0 ‘***’ 0.001 ‘**’ 0.01 ‘*’ 0.05 ‘.’ 0.1 ‘ ’ 1\n"
      ]
     },
     "metadata": {},
     "output_type": "display_data"
    }
   ],
   "source": [
    "%%R\n",
    "anova(anos0, anos1, test=\"Chisq\")"
   ]
  },
  {
   "cell_type": "code",
   "execution_count": 13,
   "metadata": {},
   "outputs": [
    {
     "data": {
      "text/plain": [
       "Bootstrap test; time: 6.17 sec;samples: 1000; extremes: 0;\n",
       "large : sero_svm ~ anosmia\n",
       "small : sero_svm ~ 1\n",
       "         stat df   p.value    \n",
       "LRT    43.996  1 3.291e-11 ***\n",
       "PBtest 43.996     0.000999 ***\n",
       "---\n",
       "Signif. codes:  0 ‘***’ 0.001 ‘**’ 0.01 ‘*’ 0.05 ‘.’ 0.1 ‘ ’ 1\n"
      ]
     },
     "metadata": {},
     "output_type": "display_data"
    }
   ],
   "source": [
    "%%R\n",
    "PBmodcomp(anos1, anos0, nsim=1000, seed=123)"
   ]
  },
  {
   "cell_type": "code",
   "execution_count": 14,
   "metadata": {
    "scrolled": true
   },
   "outputs": [
    {
     "data": {
      "image/png": "[encoded data removed]"
     },
     "metadata": {},
     "output_type": "display_data"
    },
    {
     "data": {
      "image/png": "[encoded data removed]"
     },
     "metadata": {},
     "output_type": "display_data"
    },
    {
     "data": {
      "image/png": "[encoded data removed]"
     },
     "metadata": {},
     "output_type": "display_data"
    }
   ],
   "source": [
    "%%R\n",
    "mod <- anos1\n",
    "\n",
    "E <- resid(mod)\n",
    "# par(mfrow())\n",
    "hist(E)\n",
    "plot(fitted(mod), E)\n",
    "plot(jitter(model.matrix(mod)[,2]), jitter(E))"
   ]
  },
  {
   "cell_type": "code",
   "execution_count": 15,
   "metadata": {
    "scrolled": false
   },
   "outputs": [
    {
     "data": {
      "text/plain": [
       "\n",
       "Call:\n",
       "glm(formula = sero_svm ~ fever, family = \"binomial\", data = filter(staf, \n",
       "    !is.na(fever)))\n",
       "\n",
       "Deviance Residuals: \n",
       "    Min       1Q   Median       3Q      Max  \n",
       "-0.8667  -0.8667  -0.6444  -0.6444   1.8297  \n",
       "\n",
       "Coefficients:\n",
       "            Estimate Std. Error z value Pr(>|z|)    \n",
       "(Intercept)  -1.4663     0.2265  -6.475 9.47e-11 ***\n",
       "feverTRUE     0.6808     0.3134   2.172   0.0299 *  \n",
       "---\n",
       "Signif. codes:  0 ‘***’ 0.001 ‘**’ 0.01 ‘*’ 0.05 ‘.’ 0.1 ‘ ’ 1\n",
       "\n",
       "(Dispersion parameter for binomial family taken to be 1)\n",
       "\n",
       "    Null deviance: 251.38  on 226  degrees of freedom\n",
       "Residual deviance: 246.61  on 225  degrees of freedom\n",
       "AIC: 250.61\n",
       "\n",
       "Number of Fisher Scoring iterations: 4\n",
       "\n",
       "Bootstrap test; time: 6.19 sec;samples: 1000; extremes: 30;\n",
       "large : sero_svm ~ fever\n",
       "small : sero_svm ~ 1\n",
       "         stat df p.value  \n",
       "LRT    4.7692  1 0.02897 *\n",
       "PBtest 4.7692    0.03097 *\n",
       "---\n",
       "Signif. codes:  0 ‘***’ 0.001 ‘**’ 0.01 ‘*’ 0.05 ‘.’ 0.1 ‘ ’ 1\n"
      ]
     },
     "metadata": {},
     "output_type": "display_data"
    }
   ],
   "source": [
    "%%R\n",
    "fever0 <- glm(sero_svm ~ 1, family=\"binomial\", data=filter(staf, !is.na(fever)))\n",
    "fever1 <- glm(sero_svm ~ fever, family=\"binomial\", data=filter(staf, !is.na(fever)))\n",
    "print(summary(fever1))\n",
    "\n",
    "anova(fever0, fever1, test=\"Chisq\")\n",
    "\n",
    "PBmodcomp(fever1, fever0, nsim=1000, seed=123)"
   ]
  },
  {
   "cell_type": "code",
   "execution_count": 16,
   "metadata": {
    "scrolled": false
   },
   "outputs": [
    {
     "data": {
      "text/plain": [
       "\n",
       "Call:\n",
       "glm(formula = sero_svm ~ myalgia, family = \"binomial\", data = filter(staf, \n",
       "    !is.na(myalgia)))\n",
       "\n",
       "Deviance Residuals: \n",
       "    Min       1Q   Median       3Q      Max  \n",
       "-0.8316  -0.7090  -0.7090  -0.7090   1.7344  \n",
       "\n",
       "Coefficients:\n",
       "            Estimate Std. Error z value Pr(>|z|)    \n",
       "(Intercept)  -1.2528     0.1890  -6.629 3.38e-11 ***\n",
       "myalgiaTRUE   0.3686     0.3318   1.111    0.267    \n",
       "---\n",
       "Signif. codes:  0 ‘***’ 0.001 ‘**’ 0.01 ‘*’ 0.05 ‘.’ 0.1 ‘ ’ 1\n",
       "\n",
       "(Dispersion parameter for binomial family taken to be 1)\n",
       "\n",
       "    Null deviance: 251.38  on 226  degrees of freedom\n",
       "Residual deviance: 250.17  on 225  degrees of freedom\n",
       "AIC: 254.17\n",
       "\n",
       "Number of Fisher Scoring iterations: 4\n",
       "\n",
       "Bootstrap test; time: 6.30 sec;samples: 1000; extremes: 300;\n",
       "large : sero_svm ~ myalgia\n",
       "small : sero_svm ~ 1\n",
       "         stat df p.value\n",
       "LRT    1.2111  1  0.2711\n",
       "PBtest 1.2111     0.3007\n"
      ]
     },
     "metadata": {},
     "output_type": "display_data"
    }
   ],
   "source": [
    "%%R\n",
    "myal0 <- glm(sero_svm ~ 1, family=\"binomial\", data=filter(staf, !is.na(myalgia)))\n",
    "myal1 <- glm(sero_svm ~ myalgia, family=\"binomial\", data=filter(staf, !is.na(myalgia)))\n",
    "print(summary(myal1))\n",
    "\n",
    "anova(myal0, myal1, test=\"Chisq\")\n",
    "\n",
    "PBmodcomp(myal1, myal0, nsim=1000, seed=123)"
   ]
  },
  {
   "cell_type": "code",
   "execution_count": 17,
   "metadata": {},
   "outputs": [
    {
     "data": {
      "image/png": "[encoded data removed]"
     },
     "metadata": {},
     "output_type": "display_data"
    }
   ],
   "source": [
    "%%R\n",
    "# Benjamini–Hochberg procedure\n",
    "df <- data.frame(\n",
    "    p = c(0.000999, 0.02498, 0.2248),\n",
    "    k = 1:3\n",
    ")\n",
    "df$bh_cut <- 0.05*(df$k/10)\n",
    "df$bh_pass <- df$p<df$bh_cut\n",
    "df$bh_sig <- F\n",
    "df$bh_sig[1:max(which(df$bh_pass))] <- T\n",
    "\n",
    "\n",
    "ggplot(df, aes(x=k, y=p))+\n",
    "geom_point()+\n",
    "# ggplot(data=df, aes(x=k, y=p, colour=bh_sig))+\n",
    "# geom_point()+\n",
    "geom_abline(intercept=0, slope=0.05/10)+\n",
    "geom_hline(yintercept=0.05, lty=2)+\n",
    "theme_dios()"
   ]
  },
  {
   "cell_type": "code",
   "execution_count": null,
   "metadata": {},
   "outputs": [],
   "source": []
  }
 ],
 "metadata": {
  "kernelspec": {
   "display_name": "Python 3",
   "language": "python",
   "name": "python3"
  },
  "language_info": {
   "codemirror_mode": {
    "name": "ipython",
    "version": 3
   },
   "file_extension": ".py",
   "mimetype": "text/x-python",
   "name": "python",
   "nbconvert_exporter": "python",
   "pygments_lexer": "ipython3",
   "version": "3.7.4"
  }
 },
 "nbformat": 4,
 "nbformat_minor": 4
}
